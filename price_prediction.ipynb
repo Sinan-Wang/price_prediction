{
 "cells": [
  {
   "cell_type": "markdown",
   "id": "Jg5GlqRI6pSg",
   "metadata": {
    "id": "Jg5GlqRI6pSg"
   },
   "source": [
    "# Advanced Data Analytics for Management Support - Assignment Submission"
   ]
  },
  {
   "cell_type": "markdown",
   "id": "6b8dcc3e",
   "metadata": {},
   "source": [
    "## by Sinan Wang"
   ]
  },
  {
   "cell_type": "markdown",
   "id": "P9iPF1tp6bBC",
   "metadata": {
    "id": "P9iPF1tp6bBC"
   },
   "source": [
    "# Table of Contents\n",
    "\n",
    "    1. Introduction\n",
    "    2. Data preparation and EDA\n",
    "        2.1 Loading data\n",
    "        2.2 Textual feature preparation and EDA\n",
    "        2.3 Numerical feature preparation and EDA\n",
    "        2.4 Categorical feature preparation and EDA\n",
    "        2.5 Splitting data\n",
    "    3. Feature Engineering\n",
    "        3.1 Textual feature engineer\n",
    "        3.2 Numerical feature engineer\n",
    "        3.3 Categorical feature engineer\n",
    "        3.4 Final tabular dataframe combination\n",
    "    4. Model Selection\n",
    "        4.1 Random Forest\n",
    "        4.2 Feedforward NN\n",
    "        4.3 RNN Architecture\n",
    "        4.4 CNN Architecture\n",
    "        4.5 Model Performance Summary\n",
    "    5. Application to Test Set\n",
    "    6. Conclusion"
   ]
  },
  {
   "cell_type": "markdown",
   "id": "-mfVVplZ6z4y",
   "metadata": {
    "id": "-mfVVplZ6z4y"
   },
   "source": [
    "# 1.Introduction"
   ]
  },
  {
   "cell_type": "markdown",
   "id": "QEv1n1fX7BaU",
   "metadata": {
    "id": "QEv1n1fX7BaU"
   },
   "source": [
    "The task of this assignment is to predict the property prices for Airbnb listings in london. As we know, Airbnb is a long term renting platment where hosts can list their proporties and determine the rental price themselves.  \n",
    "\n",
    "In the following, we will solve the task by using both the tabular data and text data. The basic pipeline involves: data preparation and EDA, feature engineer, building model and model evaluation. The best model will be applied to the test data at last. "
   ]
  },
  {
   "cell_type": "markdown",
   "id": "5VqxhVMy_GKz",
   "metadata": {
    "id": "5VqxhVMy_GKz"
   },
   "source": [
    "At the very beginning, we will import all the necessary libraries."
   ]
  },
  {
   "cell_type": "code",
   "execution_count": 1,
   "id": "4Zz3-19n7If3",
   "metadata": {
    "id": "4Zz3-19n7If3"
   },
   "outputs": [],
   "source": [
    "#import all necessary libraries\n",
    "import numpy as np\n",
    "import pandas as pd\n",
    "import matplotlib.pyplot as plt\n",
    "import seaborn as sns\n",
    "import warnings\n",
    "from sklearn.model_selection import train_test_split\n",
    "from sklearn.preprocessing import StandardScaler\n",
    "import statsmodels.api as sm\n",
    "from statsmodels.formula.api import ols\n",
    "from vaderSentiment.vaderSentiment import SentimentIntensityAnalyzer\n",
    "import tensorflow as tf\n",
    "import string\n",
    "from tensorflow.keras import layers\n",
    "from tensorflow.keras.layers.experimental.preprocessing import TextVectorization\n",
    "from tensorflow.keras.preprocessing.text import Tokenizer\n",
    "import nltk\n",
    "import re\n",
    "from nltk.corpus import stopwords\n",
    "from nltk.stem import WordNetLemmatizer\n",
    "from collections import Counter\n",
    "from sklearn.linear_model import LinearRegression\n",
    "from sklearn.ensemble import RandomForestRegressor\n",
    "from sklearn.metrics import mean_squared_error, mean_absolute_error, r2_score\n",
    "from sklearn.feature_extraction.text import TfidfVectorizer\n",
    "from tensorflow import keras\n",
    "from tensorflow.keras import layers\n",
    "import os  \n",
    "from keras.layers import GRU\n",
    "from tensorflow.keras.layers import Input, Embedding, Dense, Dropout, SpatialDropout1D\n",
    "from tensorflow.keras.layers import concatenate, GlobalAveragePooling1D, GlobalMaxPooling1D\n",
    "from tensorflow.keras.models import Model\n",
    "import tensorflow_text\n",
    "from sklearn.model_selection import GridSearchCV\n",
    "import time\n",
    "from keras.callbacks import EarlyStopping\n",
    "from gensim.models import KeyedVectors\n",
    "from gensim.models.keyedvectors import Word2VecKeyedVectors\n",
    "from keras.initializers import Constant\n",
    "import math"
   ]
  },
  {
   "cell_type": "markdown",
   "id": "feaaa542",
   "metadata": {
    "id": "feaaa542"
   },
   "source": [
    "# 2.Data Preparation and EDA"
   ]
  },
  {
   "cell_type": "markdown",
   "id": "xFvZxHe-_x5Q",
   "metadata": {
    "id": "xFvZxHe-_x5Q"
   },
   "source": [
    "In section 2, we will load the data and inspect the features by categories, namely textual features, numerical features and categorical features. \n",
    "\n",
    "As to textual feature, the basic data cleaning pipeline involves: dealing with null/missing value, preprocessing the text data and EDA. As to numerical variables, we extract three numerical features from 'amenities' and 'descripton' and also deal with the null/missing value, EDA and perform feature selection. As to categorical variables, we will deal with the null/missing value, EDA and perform feature selection. At last, the training data will be splitted into train and validation dataset. "
   ]
  },
  {
   "cell_type": "markdown",
   "id": "JPBMxbYF8_d3",
   "metadata": {
    "id": "JPBMxbYF8_d3"
   },
   "source": [
    "## 2.1 Loading data"
   ]
  },
  {
   "cell_type": "code",
   "execution_count": 2,
   "id": "7c35cdb3",
   "metadata": {
    "id": "7c35cdb3",
    "outputId": "7bc956fe-fc83-455a-b54c-cdd661a1cea6"
   },
   "outputs": [
    {
     "name": "stdout",
     "output_type": "stream",
     "text": [
      "train dataset dimensinality: (55284, 42)\n",
      "\n",
      "test dataset dimensinality: (29769, 41)\n",
      "\n"
     ]
    }
   ],
   "source": [
    "# import training set\n",
    "df = pd.read_csv(\"train.csv.zip\", sep=\",\")\n",
    "\n",
    "# import test set\n",
    "x_test =pd.read_csv(\"test.csv.zip\", sep=\",\")\n",
    "\n",
    "print(\"train dataset dimensinality:\", df.shape, end='\\n\\n')\n",
    "print(\"test dataset dimensinality:\", x_test.shape, end='\\n\\n')\n"
   ]
  },
  {
   "cell_type": "code",
   "execution_count": 3,
   "id": "24cc08fd",
   "metadata": {
    "id": "24cc08fd",
    "outputId": "c0d73bc6-ce1c-4514-e47d-183c85f336eb"
   },
   "outputs": [
    {
     "data": {
      "text/plain": [
       "Index(['name', 'summary', 'space', 'description', 'experiences_offered',\n",
       "       'neighborhood_overview', 'transit', 'house_rules', 'picture_url',\n",
       "       'host_id', 'host_since', 'host_response_time', 'host_response_rate',\n",
       "       'host_is_superhost', 'host_total_listings_count',\n",
       "       'host_has_profile_pic', 'host_identity_verified', 'neighbourhood',\n",
       "       'neighbourhood_cleansed', 'zipcode', 'latitude', 'longitude',\n",
       "       'property_type', 'room_type', 'accommodates', 'bathrooms', 'bedrooms',\n",
       "       'beds', 'bed_type', 'amenities', 'price', 'guests_included',\n",
       "       'review_scores_rating', 'review_scores_accuracy',\n",
       "       'review_scores_cleanliness', 'review_scores_checkin',\n",
       "       'review_scores_communication', 'review_scores_location',\n",
       "       'review_scores_value', 'cancellation_policy', 'reviews_per_month',\n",
       "       'listing_id'],\n",
       "      dtype='object')"
      ]
     },
     "execution_count": 3,
     "metadata": {},
     "output_type": "execute_result"
    }
   ],
   "source": [
    "df.columns"
   ]
  },
  {
   "cell_type": "code",
   "execution_count": 4,
   "id": "_U8SmJ4ONO7S",
   "metadata": {
    "id": "_U8SmJ4ONO7S"
   },
   "outputs": [
    {
     "data": {
      "text/plain": [
       "Index(['name', 'summary', 'space', 'description', 'experiences_offered',\n",
       "       'neighborhood_overview', 'transit', 'house_rules', 'picture_url',\n",
       "       'host_id', 'host_since', 'host_response_time', 'host_response_rate',\n",
       "       'host_is_superhost', 'host_total_listings_count',\n",
       "       'host_has_profile_pic', 'host_identity_verified', 'neighbourhood',\n",
       "       'neighbourhood_cleansed', 'zipcode', 'latitude', 'longitude',\n",
       "       'property_type', 'room_type', 'accommodates', 'bathrooms', 'bedrooms',\n",
       "       'beds', 'bed_type', 'amenities', 'guests_included',\n",
       "       'review_scores_rating', 'review_scores_accuracy',\n",
       "       'review_scores_cleanliness', 'review_scores_checkin',\n",
       "       'review_scores_communication', 'review_scores_location',\n",
       "       'review_scores_value', 'cancellation_policy', 'reviews_per_month',\n",
       "       'listing_id'],\n",
       "      dtype='object')"
      ]
     },
     "execution_count": 4,
     "metadata": {},
     "output_type": "execute_result"
    }
   ],
   "source": [
    "x_test.columns"
   ]
  },
  {
   "cell_type": "markdown",
   "id": "mCYPHV3JqzXb",
   "metadata": {
    "id": "mCYPHV3JqzXb"
   },
   "source": [
    "## 2.2 Textual feature preparation and EDA"
   ]
  },
  {
   "cell_type": "markdown",
   "id": "R2ERHmhjB44H",
   "metadata": {
    "id": "R2ERHmhjB44H"
   },
   "source": [
    "As to textual feature, the basic data cleaning pipeline involves: dealing with null/missing value, selecting feature, preprocessing the text data and EDA."
   ]
  },
  {
   "cell_type": "markdown",
   "id": "5O-3oVKeZtyI",
   "metadata": {
    "id": "5O-3oVKeZtyI"
   },
   "source": [
    "### Deal with text null value"
   ]
  },
  {
   "cell_type": "markdown",
   "id": "bwT0RrGkB-E5",
   "metadata": {
    "id": "bwT0RrGkB-E5"
   },
   "source": [
    "After checking the null value in textual features, we will replace the missing text with ''.\n",
    "\n",
    "At first, we select the textual feature from all the features and deal with the missing value.\n",
    "\n",
    "There are several approaches to deal with the missing text. One could be discarding the observations with missing text. Another approach is replacing missing text with empty string(''). There are still other valuable features in the observations with missing text and we donot want to lose the information of these observations. Therefore, we will replace the missing text with empty string('') instead of discarding the observation."
   ]
  },
  {
   "cell_type": "code",
   "execution_count": 5,
   "id": "-RcA7QaQbZQz",
   "metadata": {
    "id": "-RcA7QaQbZQz"
   },
   "outputs": [],
   "source": [
    "col_info ={}\n",
    "col_info['text_cols']=[\n",
    "    'summary','description','space',\n",
    "    'neighborhood_overview','name','amenities'\n",
    "]"
   ]
  },
  {
   "cell_type": "code",
   "execution_count": 6,
   "id": "pVsjufOobuqD",
   "metadata": {
    "id": "pVsjufOobuqD",
    "outputId": "044eae93-b812-45f7-952e-25367b0fe2a8"
   },
   "outputs": [
    {
     "name": "stdout",
     "output_type": "stream",
     "text": [
      "summary                   2954\n",
      "description               1726\n",
      "space                    16881\n",
      "neighborhood_overview    19506\n",
      "name                        14\n",
      "amenities                    0\n",
      "dtype: int64\n",
      "summary                   1577\n",
      "description                943\n",
      "space                     9057\n",
      "neighborhood_overview    10551\n",
      "name                        10\n",
      "amenities                    0\n",
      "dtype: int64\n"
     ]
    }
   ],
   "source": [
    "print(df[col_info['text_cols']].isnull().sum())\n",
    "print(x_test[col_info['text_cols']].isnull().sum())"
   ]
  },
  {
   "cell_type": "markdown",
   "id": "1CgC0oKONZNs",
   "metadata": {
    "id": "1CgC0oKONZNs"
   },
   "source": [
    "We noticed that there are many missing values in the textual features, such as 'space', 'neighborhood_overview'. Therefore, we may not use it to predict. \n",
    "\n",
    "The information in 'summary' and 'description' is quite similar. But there is less missing value in 'description' and 'description' is more detailed than 'summary', and thus we will use 'description' instead of 'summary'. \n",
    "\n",
    "We will also treat 'amenities' as textual feature, because we believe 'amenities' contains important information and there are more than 60 different levels of amenities. Therefore, it is unrealistic to treat 'amenities' as categorical feature. We will use 'amenities' as textual feature and preprocess it."
   ]
  },
  {
   "cell_type": "code",
   "execution_count": 7,
   "id": "ewlR72yEbxr0",
   "metadata": {
    "id": "ewlR72yEbxr0"
   },
   "outputs": [],
   "source": [
    "#replace empty cells with ''\n",
    "for col_name in col_info['text_cols']:\n",
    "    \n",
    "    num_df = df[col_name]\n",
    "    \n",
    "    num_df = num_df.fillna('')\n",
    "    col_values = num_df.values.reshape(-1,1)\n",
    "    \n",
    "    df[col_name]=col_values"
   ]
  },
  {
   "cell_type": "code",
   "execution_count": 8,
   "id": "6OnAQxkAcHzr",
   "metadata": {
    "id": "6OnAQxkAcHzr"
   },
   "outputs": [],
   "source": [
    "#replace empty cells with ''\n",
    "for col_name in col_info['text_cols']:\n",
    "    \n",
    "    num_df = x_test[col_name]\n",
    "    \n",
    "    num_df = num_df.fillna('')\n",
    "    col_values = num_df.values.reshape(-1,1)\n",
    "    \n",
    "    x_test[col_name]=col_values"
   ]
  },
  {
   "cell_type": "markdown",
   "id": "502a2fef",
   "metadata": {
    "id": "502a2fef"
   },
   "source": [
    "### Preprocess text data"
   ]
  },
  {
   "cell_type": "markdown",
   "id": "T8gJrDtsHuVS",
   "metadata": {
    "id": "T8gJrDtsHuVS"
   },
   "source": [
    "Here is the step to preprocess the textual data.\n",
    "\n",
    "The following steps are performed:\n",
    "\n",
    "1. remove HTTP links\n",
    "2. replace non English character with ' '\n",
    "3. lower the text\n",
    "4. remove stop words in English\n",
    "5. remove punctuation\n",
    "6. remove digits\n",
    "7. remove unnecessary spaces\n",
    "8. lemmatize the word and remove the lemmatized word with length less than 3\n",
    "\n",
    "As we know, stemming is a process to reduce the word to its root but it also cause problems by stemming unwanted words. Instead, lematization has an advantage in dealing with the problem. Because lemmatization is a systematic way to reduce the words into their lemma by matching them with a language dictionary. Here we use 'Wordnetlemmatizer' from nltk to do lemmatize."
   ]
  },
  {
   "cell_type": "code",
   "execution_count": 10,
   "id": "b1d7a4ac",
   "metadata": {
    "id": "b1d7a4ac"
   },
   "outputs": [],
   "source": [
    "stop = stopwords.words('english')\n",
    "lemmatizer = WordNetLemmatizer()\n",
    "\n",
    "def preprocess(text):\n",
    "    \"\"\"\n",
    "    Main text cleaning function.\n",
    "    \"\"\"\n",
    "    #remove the links\n",
    "    text = re.sub('[^ ]+\\.[^ ]+', \"\", text)\n",
    "    #remove non english character\n",
    "    text = re.sub('[^a-zA-Z]', ' ',text)\n",
    "    #lower the text\n",
    "    text = text.lower()\n",
    "    #remove stop words\n",
    "    text= \" \".join([word for word in str(text).split() if word not in stop])\n",
    "    #remove punctuation\n",
    "    text =re.sub(r'[^\\w\\s]', '', text)\n",
    "    #remove digits\n",
    "    text = re.sub(r'\\d+', \" \", text)\n",
    "    #remove unnecessary spaces\n",
    "    text = re.sub(' +', \" \", text)\n",
    "    #Lemmatization and delete length less than 3\n",
    "    text = \" \".join([lemmatizer.lemmatize(word) for word in text.split() if len(lemmatizer.lemmatize(word)) >2])   \n",
    "    return text"
   ]
  },
  {
   "cell_type": "code",
   "execution_count": 11,
   "id": "f9637294",
   "metadata": {
    "id": "f9637294",
    "outputId": "e9e64fa4-de15-449f-f586-a39121e64c78"
   },
   "outputs": [
    {
     "data": {
      "text/plain": [
       "'room tidy running good'"
      ]
     },
     "execution_count": 11,
     "metadata": {},
     "output_type": "execute_result"
    }
   ],
   "source": [
    "#example for preprocessing\n",
    "preprocess('rooms are tidy,running中国, https://www.postgresql.org/docs/13/functions-formatting.html, 22,  2cd, GOOD!')"
   ]
  },
  {
   "cell_type": "code",
   "execution_count": 12,
   "id": "87755ad2",
   "metadata": {
    "id": "87755ad2"
   },
   "outputs": [],
   "source": [
    "df['amenitiesclean'] = df.amenities.apply(preprocess)\n",
    "\n",
    "x_test['amenitiesclean'] = x_test.amenities.apply(preprocess)\n"
   ]
  },
  {
   "cell_type": "code",
   "execution_count": 13,
   "id": "4abb2c68",
   "metadata": {
    "id": "4abb2c68"
   },
   "outputs": [],
   "source": [
    "df['desclean'] = df.description.apply(preprocess)\n",
    "\n",
    "x_test['desclean'] = x_test.description.apply(preprocess)"
   ]
  },
  {
   "cell_type": "markdown",
   "id": "DCriZAvTq9pc",
   "metadata": {
    "id": "DCriZAvTq9pc"
   },
   "source": [
    "### Text feature EDA"
   ]
  },
  {
   "cell_type": "markdown",
   "id": "VvFHjc--I_Ne",
   "metadata": {
    "id": "VvFHjc--I_Ne"
   },
   "source": [
    "Here we can obtain an understanding of top 20 the most frequently used words in the text."
   ]
  },
  {
   "cell_type": "code",
   "execution_count": 14,
   "id": "9239c956",
   "metadata": {
    "id": "9239c956",
    "outputId": "fa717846-2141-4664-eff8-c84b23bfc12b"
   },
   "outputs": [
    {
     "data": {
      "image/png": "[encoded data removed]",
      "text/plain": [
       "<Figure size 432x360 with 1 Axes>"
      ]
     },
     "metadata": {
      "needs_background": "light"
     },
     "output_type": "display_data"
    }
   ],
   "source": [
    "fre_ame =Counter(\" \".join(df.amenitiesclean).split()).most_common(20)\n",
    "plt.rcParams[\"figure.figsize\"] = (6,5)\n",
    "parameters = {'xtick.labelsize': 15,\n",
    "          'ytick.labelsize': 15}\n",
    "plt.rcParams.update(parameters)\n",
    "a = pd.DataFrame(fre_ame, columns=['word', 'frequency']).set_index('word')\n",
    "a.plot.barh()\n",
    "plt.ylabel('word', fontsize=20)\n",
    "plt.title(\"Most frequently used in amenities\", fontsize=20)\n",
    "plt.show()"
   ]
  },
  {
   "cell_type": "markdown",
   "id": "fgEDPR8BRE-n",
   "metadata": {
    "id": "fgEDPR8BRE-n"
   },
   "source": [
    "From the figure, the most frequently appeared word is 'detector'(almost 80000 times), because there are smoke detector and carbon monoxide detector in 'amenities'. Dry, wifi, heating and kitchen are also frequently appeared words in 'amenities'."
   ]
  },
  {
   "cell_type": "code",
   "execution_count": 15,
   "id": "961f84b5",
   "metadata": {
    "id": "961f84b5",
    "outputId": "e1a8bbb0-4236-46aa-9a70-0c66beb4a0c4"
   },
   "outputs": [
    {
     "data": {
      "image/png": "[encoded data removed]",
      "text/plain": [
       "<Figure size 432x360 with 1 Axes>"
      ]
     },
     "metadata": {
      "needs_background": "light"
     },
     "output_type": "display_data"
    }
   ],
   "source": [
    "fre_des =Counter(\" \".join(df['desclean']).split()).most_common(20)\n",
    "plt.rcParams[\"figure.figsize\"] = (6,5)\n",
    "parameters = {'xtick.labelsize': 15,\n",
    "          'ytick.labelsize': 15}\n",
    "plt.rcParams.update(parameters)\n",
    "x = pd.DataFrame(fre_des, columns=['word', 'frequency']).set_index('word')\n",
    "x.plot.barh()\n",
    "plt.ylabel('word', fontsize=20)\n",
    "plt.title(\"Most frequently used in description\", fontsize=20)\n",
    "plt.show()"
   ]
  },
  {
   "cell_type": "markdown",
   "id": "josxbM5bTanV",
   "metadata": {
    "id": "josxbM5bTanV"
   },
   "source": [
    "From the figure, the most frequently appeared word is 'london'(more than 60000 times), which meets our expectation, because the properties lie in london. Next are 'room', 'bedroom' 'minute' and 'walk', demonstrating the room and location are two important factors to illustrate in description."
   ]
  },
  {
   "cell_type": "markdown",
   "id": "54cc215c",
   "metadata": {
    "id": "54cc215c"
   },
   "source": [
    "## 2.3 Numerical feature preparation and EDA"
   ]
  },
  {
   "cell_type": "markdown",
   "id": "phUXFQZ0JKAS",
   "metadata": {
    "id": "phUXFQZ0JKAS"
   },
   "source": [
    "As to numerical variables, we extract three numerical features from 'amenities' and 'descripton' and also deal with the null/missing value, EDA and perform feature selection."
   ]
  },
  {
   "cell_type": "markdown",
   "id": "bNHGEH0b9Lgl",
   "metadata": {
    "id": "bNHGEH0b9Lgl"
   },
   "source": [
    "### Add numerical feature-number of amenities"
   ]
  },
  {
   "cell_type": "markdown",
   "id": "gLZcA3CDJcRx",
   "metadata": {
    "id": "gLZcA3CDJcRx"
   },
   "source": [
    "From the raw data, we can obtain the information of amenities which a property owns. We believe that there is important information contained in amenities. We will also calculate the correlation and verify the feature importance later in this part. Therefore, we extract the number of amenities from the text feature(amenities)."
   ]
  },
  {
   "cell_type": "code",
   "execution_count": 16,
   "id": "ZRnhqxGZaviQ",
   "metadata": {
    "id": "ZRnhqxGZaviQ"
   },
   "outputs": [],
   "source": [
    "def amenities_cleaning(x):\n",
    "    \n",
    "    ''' This function is used to clean the Amenities column '''\n",
    "    \n",
    "    x =  len(x.replace('{','').replace('}','').split(','))\n",
    "    return x\n",
    "\n",
    "df['amenities_num'] = df['amenities'].apply(lambda x: amenities_cleaning(x))\n",
    "x_test['amenities_num'] = x_test['amenities'].apply(lambda x: amenities_cleaning(x))"
   ]
  },
  {
   "cell_type": "markdown",
   "id": "5f26ac95",
   "metadata": {
    "id": "5f26ac95"
   },
   "source": [
    "### Add numerical feature-length of description"
   ]
  },
  {
   "cell_type": "markdown",
   "id": "jwqLFNlcLUbu",
   "metadata": {
    "id": "jwqLFNlcLUbu"
   },
   "source": [
    "As we know, 'description' is the description of the listing properties which are written by the hosts. \n",
    "\n",
    "We assume the length of description will illustrate the level of specificity of the description. We will also calculate the correlation and verify the feature importance later in this part. Therefore, we will extract the a numerical variable(length of description) from the textual feature(description)."
   ]
  },
  {
   "cell_type": "code",
   "execution_count": 17,
   "id": "dfc015b1",
   "metadata": {
    "id": "dfc015b1",
    "outputId": "4f3c33c2-3feb-4794-ba63-bf2d2e07cfc7"
   },
   "outputs": [
    {
     "data": {
      "text/plain": [
       "count    55284.000000\n",
       "mean       134.531492\n",
       "std         57.832322\n",
       "min          1.000000\n",
       "25%         86.000000\n",
       "50%        166.000000\n",
       "75%        177.000000\n",
       "max        295.000000\n",
       "Name: deslen, dtype: float64"
      ]
     },
     "execution_count": 17,
     "metadata": {},
     "output_type": "execute_result"
    }
   ],
   "source": [
    "df[\"deslen\"] = df.description.apply(lambda description: len(description.split(\" \")))\n",
    "x_test[\"deslen\"] = x_test.description.apply(lambda description: len(description.split(\" \")))\n",
    "df[\"deslen\"].describe()"
   ]
  },
  {
   "cell_type": "code",
   "execution_count": 18,
   "id": "fcffa533",
   "metadata": {
    "id": "fcffa533",
    "outputId": "8ac71e0c-483b-4570-be4c-cbc770f3638f"
   },
   "outputs": [
    {
     "data": {
      "image/png": "[encoded data removed]",
      "text/plain": [
       "<Figure size 1080x288 with 2 Axes>"
      ]
     },
     "metadata": {
      "needs_background": "light"
     },
     "output_type": "display_data"
    }
   ],
   "source": [
    "plt.subplots(1, 2, figsize=(15, 4))\n",
    "plt.subplot(1, 2, 1)\n",
    "plt.title(\"Train Distribution\")\n",
    "plt.xlabel(\"Description Length\")\n",
    "df.deslen.plot.hist(bins=15);\n",
    "plt.subplot(1, 2, 2)\n",
    "plt.title(\"Test Distribution\")\n",
    "plt.xlabel(\"Description Length\")\n",
    "x_test.deslen.plot.hist(bins=15);"
   ]
  },
  {
   "cell_type": "markdown",
   "id": "ecf9899c",
   "metadata": {
    "id": "ecf9899c"
   },
   "source": [
    "### Add numerical feature-sentiment description"
   ]
  },
  {
   "cell_type": "markdown",
   "id": "1hanoeJjMhSZ",
   "metadata": {
    "id": "1hanoeJjMhSZ"
   },
   "source": [
    "We also expect the sentiment of description will reflect the level of positive the description, although the description is written by the host.\n",
    "\n",
    "Therefore, we will extract the a numerical variable(sentiment) from the textual feature(description) by using library 'SentimentIntensityAnalyzer'. We will also calculate the correlation and verify the feature importance later in this part. It will give us four scores('neg','neu','pos','compound'). We will use compund score, ranging from -1 to 1."
   ]
  },
  {
   "cell_type": "code",
   "execution_count": 19,
   "id": "17c723e9",
   "metadata": {
    "id": "17c723e9",
    "outputId": "b4389fee-ced8-4a9c-d7f5-d29a6bc66487"
   },
   "outputs": [
    {
     "data": {
      "text/plain": [
       "{'neg': 0.0, 'neu': 0.295, 'pos': 0.705, 'compound': 0.8012}"
      ]
     },
     "execution_count": 19,
     "metadata": {},
     "output_type": "execute_result"
    }
   ],
   "source": [
    "sia = SentimentIntensityAnalyzer()\n",
    "sia.polarity_scores(\"Wow, NLTK is really powerful!\")"
   ]
  },
  {
   "cell_type": "code",
   "execution_count": 20,
   "id": "ab59e7f3",
   "metadata": {
    "id": "ab59e7f3",
    "outputId": "3a1fe2b3-354a-42c9-801c-6da11d5bccb1"
   },
   "outputs": [
    {
     "data": {
      "text/plain": [
       "0        0.9746\n",
       "1        0.9861\n",
       "2        0.0000\n",
       "3        0.9387\n",
       "4        0.9863\n",
       "          ...  \n",
       "55279    0.8625\n",
       "55280    0.4019\n",
       "55281    0.9797\n",
       "55282    0.9827\n",
       "55283    0.9920\n",
       "Name: sentiment, Length: 55284, dtype: float64"
      ]
     },
     "execution_count": 20,
     "metadata": {},
     "output_type": "execute_result"
    }
   ],
   "source": [
    "df[\"sentiment\"] = df.description.apply(lambda description: sia.polarity_scores(description)['compound'])\n",
    "x_test[\"sentiment\"] = x_test.description.apply(lambda description: sia.polarity_scores(description)['compound'])\n",
    "df[\"sentiment\"]"
   ]
  },
  {
   "cell_type": "code",
   "execution_count": 21,
   "id": "2f3164f5",
   "metadata": {
    "id": "2f3164f5",
    "outputId": "a27f2d0b-ab22-4eb3-94c3-165aaa995781"
   },
   "outputs": [
    {
     "data": {
      "image/png": "[encoded data removed]",
      "text/plain": [
       "<Figure size 1080x288 with 2 Axes>"
      ]
     },
     "metadata": {
      "needs_background": "light"
     },
     "output_type": "display_data"
    }
   ],
   "source": [
    "plt.subplots(1, 2, figsize=(15, 4))\n",
    "plt.subplot(1, 2, 1)\n",
    "plt.title(\"Train Distribution\")\n",
    "plt.xlabel(\"Sentiment\")\n",
    "df.sentiment.plot.hist(bins=15);\n",
    "plt.subplot(1, 2, 2)\n",
    "plt.title(\"Test Distribution\")\n",
    "plt.xlabel(\"Sentiment\")\n",
    "x_test.sentiment.plot.hist(bins=15);"
   ]
  },
  {
   "cell_type": "markdown",
   "id": "ce28487c",
   "metadata": {},
   "source": [
    "As we expect, all sentiment scores seem to be positive and most of them are close to 1."
   ]
  },
  {
   "cell_type": "markdown",
   "id": "pFzt3Lu-9WKD",
   "metadata": {
    "id": "pFzt3Lu-9WKD"
   },
   "source": [
    "### Deal with null value of numerical variables"
   ]
  },
  {
   "cell_type": "markdown",
   "id": "6nh3nRz3NqCp",
   "metadata": {
    "id": "6nh3nRz3NqCp"
   },
   "source": [
    "At first, we select the numerical features and inspect the number of observations which contain missing value.\n",
    "\n",
    "And then we will replace the missing value with the media value."
   ]
  },
  {
   "cell_type": "code",
   "execution_count": 22,
   "id": "5606a153",
   "metadata": {
    "id": "5606a153",
    "outputId": "486425cb-c2ea-45e5-8a58-109165f9042e"
   },
   "outputs": [
    {
     "data": {
      "text/plain": [
       "Index(['host_id', 'host_total_listings_count', 'latitude', 'longitude',\n",
       "       'accommodates', 'bathrooms', 'bedrooms', 'beds', 'price',\n",
       "       'guests_included', 'review_scores_rating', 'review_scores_accuracy',\n",
       "       'review_scores_cleanliness', 'review_scores_checkin',\n",
       "       'review_scores_communication', 'review_scores_location',\n",
       "       'review_scores_value', 'reviews_per_month', 'amenities_num', 'deslen',\n",
       "       'sentiment'],\n",
       "      dtype='object')"
      ]
     },
     "execution_count": 22,
     "metadata": {},
     "output_type": "execute_result"
    }
   ],
   "source": [
    "#select all numerical variables\n",
    "col_info['all_num']= df.select_dtypes(include=['int','float']).columns\n",
    "col_info['all_num']"
   ]
  },
  {
   "cell_type": "code",
   "execution_count": 23,
   "id": "d3e4b31b",
   "metadata": {
    "id": "d3e4b31b",
    "outputId": "ea40ae47-3354-416a-83c8-7680197b395b"
   },
   "outputs": [
    {
     "data": {
      "text/plain": [
       "Index(['host_total_listings_count', 'latitude', 'longitude', 'accommodates',\n",
       "       'bathrooms', 'bedrooms', 'beds', 'guests_included',\n",
       "       'review_scores_rating', 'review_scores_accuracy',\n",
       "       'review_scores_cleanliness', 'review_scores_checkin',\n",
       "       'review_scores_communication', 'review_scores_location',\n",
       "       'review_scores_value', 'reviews_per_month', 'amenities_num', 'deslen',\n",
       "       'sentiment'],\n",
       "      dtype='object')"
      ]
     },
     "execution_count": 23,
     "metadata": {},
     "output_type": "execute_result"
    }
   ],
   "source": [
    "#exclude price and host_id\n",
    "col_info['num_cols']= col_info['all_num'].delete([0,8])\n",
    "col_info['num_cols']"
   ]
  },
  {
   "cell_type": "code",
   "execution_count": 24,
   "id": "cf854b7a",
   "metadata": {
    "id": "cf854b7a",
    "outputId": "845b8967-cb84-47df-8000-559e0578cf99"
   },
   "outputs": [
    {
     "name": "stdout",
     "output_type": "stream",
     "text": [
      "host_total_listings_count        111\n",
      "latitude                           0\n",
      "longitude                          0\n",
      "accommodates                       0\n",
      "bathrooms                         70\n",
      "bedrooms                          62\n",
      "beds                             262\n",
      "guests_included                    0\n",
      "review_scores_rating           13415\n",
      "review_scores_accuracy         13448\n",
      "review_scores_cleanliness      13442\n",
      "review_scores_checkin          13483\n",
      "review_scores_communication    13446\n",
      "review_scores_location         13480\n",
      "review_scores_value            13480\n",
      "reviews_per_month              12380\n",
      "amenities_num                      0\n",
      "deslen                             0\n",
      "sentiment                          0\n",
      "dtype: int64\n",
      "host_total_listings_count        65\n",
      "latitude                          0\n",
      "longitude                         0\n",
      "accommodates                      0\n",
      "bathrooms                        50\n",
      "bedrooms                         29\n",
      "beds                            142\n",
      "guests_included                   0\n",
      "review_scores_rating           7200\n",
      "review_scores_accuracy         7219\n",
      "review_scores_cleanliness      7213\n",
      "review_scores_checkin          7230\n",
      "review_scores_communication    7213\n",
      "review_scores_location         7231\n",
      "review_scores_value            7233\n",
      "reviews_per_month              6628\n",
      "amenities_num                     0\n",
      "deslen                            0\n",
      "sentiment                         0\n",
      "dtype: int64\n"
     ]
    }
   ],
   "source": [
    "# check the missing values\n",
    "print(df[col_info['num_cols']].isnull().sum() )\n",
    "print(x_test[col_info['num_cols']].isnull().sum() )"
   ]
  },
  {
   "cell_type": "code",
   "execution_count": 25,
   "id": "fac9c15a",
   "metadata": {
    "id": "fac9c15a"
   },
   "outputs": [],
   "source": [
    "#replace empty cells with median\n",
    "for col_name in col_info['num_cols']:\n",
    "    \n",
    "    num_df = df[col_name]\n",
    "    \n",
    "    num_df = num_df.fillna(num_df.median())\n",
    "    col_values = num_df.values.reshape(-1,1)\n",
    "    \n",
    "    df[col_name]=col_values"
   ]
  },
  {
   "cell_type": "code",
   "execution_count": 26,
   "id": "1c9e5777",
   "metadata": {
    "id": "1c9e5777"
   },
   "outputs": [],
   "source": [
    "#replace empty cells with median\n",
    "for col_name in col_info['num_cols']:\n",
    "    \n",
    "    num_df = x_test[col_name]\n",
    "    \n",
    "    num_df = num_df.fillna(num_df.median())\n",
    "    col_values = num_df.values.reshape(-1,1)\n",
    "    \n",
    "    x_test[col_name]=col_values"
   ]
  },
  {
   "cell_type": "markdown",
   "id": "sHf07rzO-CJ3",
   "metadata": {
    "id": "sHf07rzO-CJ3"
   },
   "source": [
    "### Numerical variables EDA"
   ]
  },
  {
   "cell_type": "markdown",
   "id": "G0rpRVd4OfA6",
   "metadata": {
    "id": "G0rpRVd4OfA6"
   },
   "source": [
    "Here we inspect the distribution of the numerical featurs. From the plot, we can see there is no obvious outliers in the numerical features.\n"
   ]
  },
  {
   "cell_type": "code",
   "execution_count": 28,
   "id": "5b1dbadc",
   "metadata": {
    "id": "5b1dbadc",
    "outputId": "cba623b0-11dd-4d39-8d10-2e24afe8465a"
   },
   "outputs": [
    {
     "data": {
      "image/png": "[encoded data removed]",
      "text/plain": [
       "<Figure size 1440x720 with 10 Axes>"
      ]
     },
     "metadata": {
      "needs_background": "light"
     },
     "output_type": "display_data"
    },
    {
     "data": {
      "image/png": "[encoded data removed]",
      "text/plain": [
       "<Figure size 1440x720 with 9 Axes>"
      ]
     },
     "metadata": {
      "needs_background": "light"
     },
     "output_type": "display_data"
    }
   ],
   "source": [
    "#distribution plot\n",
    "%matplotlib inline  \n",
    "plt.rcParams[\"figure.figsize\"] = (20,10)\n",
    "num_vars = df[col_info['num_cols']]\n",
    "half = np.ceil(num_vars.shape[1] / 2).astype(int)\n",
    "num_vars.iloc[:, 0:half].plot(kind = 'box', subplots=True);\n",
    "num_vars.iloc[:, half:num_vars.shape[1]].plot(kind = 'box', subplots=True);"
   ]
  },
  {
   "cell_type": "markdown",
   "id": "vj1oUzLJ-I4T",
   "metadata": {
    "id": "vj1oUzLJ-I4T"
   },
   "source": [
    "### Numerical feature selection"
   ]
  },
  {
   "cell_type": "markdown",
   "id": "TrEZYxvYOuS5",
   "metadata": {
    "id": "TrEZYxvYOuS5"
   },
   "source": [
    "If irrelevant features are introduced in the model, the\n",
    "performance of the model will be harmed. Thus, it\n",
    "is necessary to select the best features which has higher correlation with the target('price').\n",
    "\n",
    "We have continous variables and continouse target(price) , and thus Pearson corellation is stuitable in this case. "
   ]
  },
  {
   "cell_type": "markdown",
   "id": "kOQGW_zTX_Y6",
   "metadata": {
    "id": "kOQGW_zTX_Y6"
   },
   "source": [
    "The formular is as followed:\n",
    "\n",
    "$$ \\rho = \\frac{{}\\sum_{i=1}^{n} (x_i - \\overline{x})(y_i - \\overline{y})}\n",
    "{\\sqrt{\\sum_{i=1}^{n} (x_i - \\overline{x})^2 \\sum_{i=1}^{n} (y_i - \\overline{y})^2}} $$\n",
    "\n",
    "The coefficient produced is bound between -1 and 1. It is recommended to only keep variables with a high correlation. The closer that this coefficient is to 0, the less correlation between the variable and the target.\n"
   ]
  },
  {
   "cell_type": "code",
   "execution_count": 29,
   "id": "18bd28b1",
   "metadata": {
    "id": "18bd28b1",
    "outputId": "409f62fb-a24a-4c96-8df5-b8c3cfad2447"
   },
   "outputs": [
    {
     "data": {
      "image/png": "[encoded data removed]",
      "text/plain": [
       "<Figure size 504x432 with 2 Axes>"
      ]
     },
     "metadata": {
      "needs_background": "light"
     },
     "output_type": "display_data"
    }
   ],
   "source": [
    "plt.figure(figsize=(7,6))\n",
    "sns.heatmap(df[col_info['all_num']].corr())\n",
    "plt.title('Correlation Matrix plot of numerical data')\n",
    "plt.show()"
   ]
  },
  {
   "cell_type": "code",
   "execution_count": 30,
   "id": "6f5adaf0",
   "metadata": {
    "id": "6f5adaf0",
    "outputId": "fe4a94f7-01aa-4527-b102-de7447b52651",
    "scrolled": true
   },
   "outputs": [
    {
     "data": {
      "text/plain": [
       "price                          1.000000\n",
       "accommodates                   0.588799\n",
       "bedrooms                       0.511827\n",
       "beds                           0.469660\n",
       "bathrooms                      0.361248\n",
       "guests_included                0.347297\n",
       "host_total_listings_count      0.269068\n",
       "amenities_num                  0.199220\n",
       "review_scores_location         0.096182\n",
       "deslen                         0.075368\n",
       "sentiment                      0.059663\n",
       "review_scores_cleanliness      0.046393\n",
       "host_id                        0.031447\n",
       "review_scores_rating           0.002442\n",
       "review_scores_accuracy        -0.006904\n",
       "latitude                      -0.024580\n",
       "review_scores_checkin         -0.031576\n",
       "review_scores_communication   -0.036661\n",
       "reviews_per_month             -0.071902\n",
       "review_scores_value           -0.080512\n",
       "longitude                     -0.116825\n",
       "Name: price, dtype: float64"
      ]
     },
     "execution_count": 30,
     "metadata": {},
     "output_type": "execute_result"
    }
   ],
   "source": [
    "df[col_info['all_num']].corr()['price'].sort_values(ascending=False)"
   ]
  },
  {
   "cell_type": "markdown",
   "id": "q3H0rdzLYRn9",
   "metadata": {
    "id": "q3H0rdzLYRn9"
   },
   "source": [
    "As we can see, 'accomodates' and 'bedrooms' are two most correlated features with target, with higher than 0.5 pearson correlation. It indicates a high correlation with target. It is understandable because that 'accommodates' contains the information about the number of allowed guests and 'bedrooms' is the number of bedrooms in the property.\n",
    "\n",
    "The number of amenities that we extracted from the amenities has a correlation of 0.199, which is also high. While the length of description and sentiment of description are less important, with correlation 0.075 and 0.060 respectively.\n",
    "\n",
    "We will select the numerical features with a thresholf of 0.05."
   ]
  },
  {
   "cell_type": "code",
   "execution_count": 31,
   "id": "48f8e046",
   "metadata": {
    "id": "48f8e046"
   },
   "outputs": [],
   "source": [
    "# select numerical columns according to threshold of 0.05\n",
    "col_info['num_cols']=['accommodates','bedrooms','beds',\n",
    "                     'bathrooms','guests_included','host_total_listings_count',\n",
    "                      'amenities_num','longitude','deslen','sentiment',\n",
    "                      'review_scores_location','review_scores_value','reviews_per_month']"
   ]
  },
  {
   "cell_type": "markdown",
   "id": "d900af80",
   "metadata": {
    "id": "d900af80"
   },
   "source": [
    "## 2.4 Categorical feature analysis"
   ]
  },
  {
   "cell_type": "markdown",
   "id": "sJ1A37w3QEUh",
   "metadata": {
    "id": "sJ1A37w3QEUh"
   },
   "source": [
    "As to categorical variables, we will deal with the null/missing value, EDA and perform feature selection.At last, the data will be splitted into train and validation dataset. "
   ]
  },
  {
   "cell_type": "markdown",
   "id": "69000174",
   "metadata": {
    "id": "69000174"
   },
   "source": [
    "### Deal with categorical null value"
   ]
  },
  {
   "cell_type": "markdown",
   "id": "E6kjSR74P7dt",
   "metadata": {
    "id": "E6kjSR74P7dt"
   },
   "source": [
    "After selecting the categorical features, we change the data type to category and then deal with the missing value by replacing missing values with the most frequently appeared level."
   ]
  },
  {
   "cell_type": "code",
   "execution_count": 32,
   "id": "eSUkrKTcbMpj",
   "metadata": {
    "id": "eSUkrKTcbMpj"
   },
   "outputs": [],
   "source": [
    "col_info['cat_cols']=[\n",
    "    #binary\n",
    "    'host_is_superhost','host_has_profile_pic','host_identity_verified',\n",
    "    #multiple levels\n",
    "    'experiences_offered','room_type','bed_type','cancellation_policy'\n",
    "]"
   ]
  },
  {
   "cell_type": "code",
   "execution_count": 33,
   "id": "924b40f1",
   "metadata": {
    "id": "924b40f1",
    "outputId": "d587c802-0c1c-45a9-b80a-e0d56db42957"
   },
   "outputs": [
    {
     "name": "stdout",
     "output_type": "stream",
     "text": [
      "<class 'pandas.core.frame.DataFrame'>\n",
      "RangeIndex: 55284 entries, 0 to 55283\n",
      "Data columns (total 7 columns):\n",
      " #   Column                  Non-Null Count  Dtype \n",
      "---  ------                  --------------  ----- \n",
      " 0   host_is_superhost       55173 non-null  object\n",
      " 1   host_has_profile_pic    55173 non-null  object\n",
      " 2   host_identity_verified  55173 non-null  object\n",
      " 3   experiences_offered     55284 non-null  object\n",
      " 4   room_type               55284 non-null  object\n",
      " 5   bed_type                55284 non-null  object\n",
      " 6   cancellation_policy     55284 non-null  object\n",
      "dtypes: object(7)\n",
      "memory usage: 3.0+ MB\n"
     ]
    }
   ],
   "source": [
    "df[col_info['cat_cols']].info()"
   ]
  },
  {
   "cell_type": "code",
   "execution_count": 34,
   "id": "3f7b7ab2",
   "metadata": {
    "id": "3f7b7ab2"
   },
   "outputs": [],
   "source": [
    "#change to category\n",
    "df[col_info['cat_cols']]=df[col_info['cat_cols']].astype('category') "
   ]
  },
  {
   "cell_type": "code",
   "execution_count": 35,
   "id": "7xUETroDbMnH",
   "metadata": {
    "id": "7xUETroDbMnH",
    "outputId": "a62e7de9-5c1e-428c-e498-5c85c8a7bebc"
   },
   "outputs": [
    {
     "name": "stdout",
     "output_type": "stream",
     "text": [
      "host_is_superhost         111\n",
      "host_has_profile_pic      111\n",
      "host_identity_verified    111\n",
      "experiences_offered         0\n",
      "room_type                   0\n",
      "bed_type                    0\n",
      "cancellation_policy         0\n",
      "dtype: int64\n",
      "host_is_superhost         65\n",
      "host_has_profile_pic      65\n",
      "host_identity_verified    65\n",
      "experiences_offered        0\n",
      "room_type                  0\n",
      "bed_type                   0\n",
      "cancellation_policy        0\n",
      "dtype: int64\n"
     ]
    }
   ],
   "source": [
    "print(df[col_info['cat_cols']].isnull().sum())\n",
    "print(x_test[col_info['cat_cols']].isnull().sum())"
   ]
  },
  {
   "cell_type": "code",
   "execution_count": 36,
   "id": "4d86c8f3",
   "metadata": {
    "id": "4d86c8f3",
    "outputId": "d6d1280c-f755-4faa-fe97-cd4c04df9926"
   },
   "outputs": [
    {
     "name": "stderr",
     "output_type": "stream",
     "text": [
      "/var/folders/xx/j02ltht92j17s8dfdgz9ykmc0000gn/T/ipykernel_9486/2295867553.py:2: SettingWithCopyWarning: \n",
      "A value is trying to be set on a copy of a slice from a DataFrame\n",
      "\n",
      "See the caveats in the documentation: https://pandas.pydata.org/pandas-docs/stable/user_guide/indexing.html#returning-a-view-versus-a-copy\n",
      "  x_test.host_is_superhost[x_test.host_is_superhost.isnull()] = df.host_is_superhost.mode()[0]\n",
      "/var/folders/xx/j02ltht92j17s8dfdgz9ykmc0000gn/T/ipykernel_9486/2295867553.py:5: SettingWithCopyWarning: \n",
      "A value is trying to be set on a copy of a slice from a DataFrame\n",
      "\n",
      "See the caveats in the documentation: https://pandas.pydata.org/pandas-docs/stable/user_guide/indexing.html#returning-a-view-versus-a-copy\n",
      "  x_test.host_has_profile_pic[x_test.host_has_profile_pic.isnull()] = df.host_has_profile_pic.mode()[0]\n",
      "/var/folders/xx/j02ltht92j17s8dfdgz9ykmc0000gn/T/ipykernel_9486/2295867553.py:8: SettingWithCopyWarning: \n",
      "A value is trying to be set on a copy of a slice from a DataFrame\n",
      "\n",
      "See the caveats in the documentation: https://pandas.pydata.org/pandas-docs/stable/user_guide/indexing.html#returning-a-view-versus-a-copy\n",
      "  x_test.host_identity_verified[x_test.host_identity_verified.isnull()] = df.host_identity_verified.mode()[0]\n"
     ]
    }
   ],
   "source": [
    "df.host_is_superhost[df.host_is_superhost.isnull()] = df.host_is_superhost.mode()[0] \n",
    "x_test.host_is_superhost[x_test.host_is_superhost.isnull()] = df.host_is_superhost.mode()[0]\n",
    "\n",
    "df.host_has_profile_pic[df.host_has_profile_pic.isnull()] = df.host_has_profile_pic.mode()[0] \n",
    "x_test.host_has_profile_pic[x_test.host_has_profile_pic.isnull()] = df.host_has_profile_pic.mode()[0]\n",
    "\n",
    "df.host_identity_verified[df.host_identity_verified.isnull()] = df.host_identity_verified.mode()[0] \n",
    "x_test.host_identity_verified[x_test.host_identity_verified.isnull()] = df.host_identity_verified.mode()[0]"
   ]
  },
  {
   "cell_type": "markdown",
   "id": "ef72106d",
   "metadata": {
    "id": "ef72106d"
   },
   "source": [
    "### Categorical variables EDA"
   ]
  },
  {
   "cell_type": "markdown",
   "id": "1NHWxI77QiGV",
   "metadata": {
    "id": "1NHWxI77QiGV"
   },
   "source": [
    "Here we can see the levels of each categorical feature."
   ]
  },
  {
   "cell_type": "code",
   "execution_count": 38,
   "id": "71fee40e",
   "metadata": {
    "id": "71fee40e",
    "outputId": "4c085f83-e2fe-4246-e76e-b9a678f821fe"
   },
   "outputs": [
    {
     "name": "stdout",
     "output_type": "stream",
     "text": [
      "none        54222\n",
      "business      364\n",
      "family        300\n",
      "social        266\n",
      "romantic      132\n",
      "Name: experiences_offered, dtype: int64\n",
      "f    47093\n",
      "t     8191\n",
      "Name: host_is_superhost, dtype: int64\n",
      "t    55124\n",
      "f      160\n",
      "Name: host_has_profile_pic, dtype: int64\n",
      "f    35457\n",
      "t    19827\n",
      "Name: host_identity_verified, dtype: int64\n",
      "Entire home/apt    30504\n",
      "Private room       23817\n",
      "Hotel room           539\n",
      "Shared room          424\n",
      "Name: room_type, dtype: int64\n",
      "Real Bed         54864\n",
      "Pull-out Sofa      239\n",
      "Futon              116\n",
      "Couch               38\n",
      "Airbed              27\n",
      "Name: bed_type, dtype: int64\n",
      "strict_14_with_grace_period    24102\n",
      "flexible                       17094\n",
      "moderate                       13643\n",
      "super_strict_60                  230\n",
      "super_strict_30                  211\n",
      "strict                             2\n",
      "luxury_moderate                    1\n",
      "luxury_super_strict_95             1\n",
      "Name: cancellation_policy, dtype: int64\n"
     ]
    }
   ],
   "source": [
    "print(df['experiences_offered'].value_counts())\n",
    "print(df['host_is_superhost'].value_counts())\n",
    "print(df['host_has_profile_pic'].value_counts())\n",
    "print(df['host_identity_verified'].value_counts())\n",
    "print(df['room_type'].value_counts())\n",
    "print(df['bed_type'].value_counts())\n",
    "print(df['cancellation_policy'].value_counts())"
   ]
  },
  {
   "cell_type": "markdown",
   "id": "L1pDchaMQq4f",
   "metadata": {
    "id": "L1pDchaMQq4f"
   },
   "source": [
    "This plot shows the distribution of price from levels of the category.\n"
   ]
  },
  {
   "cell_type": "code",
   "execution_count": 39,
   "id": "ba6dc4cd",
   "metadata": {
    "id": "ba6dc4cd",
    "outputId": "a0582f2e-ec0b-4779-d8ad-93f16fe77584"
   },
   "outputs": [
    {
     "data": {
      "image/png": "[encoded data removed]",
      "text/plain": [
       "<Figure size 1800x1800 with 7 Axes>"
      ]
     },
     "metadata": {
      "needs_background": "light"
     },
     "output_type": "display_data"
    }
   ],
   "source": [
    "fig = plt.figure(figsize=(25, 25))\n",
    "plt.subplot(3, 3, 1)\n",
    "plt.title(\"Train Distribution\")\n",
    "plt.xlabel(\"Description Length\")\n",
    "sns.boxplot(x='experiences_offered',y='price',data=df,palette='rainbow');\n",
    "plt.subplot(3, 3, 2) \n",
    "plt.title(\"Validation Distribution\")\n",
    "plt.xlabel(\"Description Length\")\n",
    "sns.boxplot(x='host_is_superhost',y='price',data=df,palette='rainbow');\n",
    "plt.subplot(3, 3, 3) \n",
    "plt.title(\"Validation Distribution\")\n",
    "plt.xlabel(\"Description Length\")\n",
    "sns.boxplot(x='host_has_profile_pic',y='price',data=df,palette='rainbow');\n",
    "plt.subplot(3, 3, 4)\n",
    "plt.title(\"Train Distribution\")\n",
    "plt.xlabel(\"Description Length\")\n",
    "sns.boxplot(x='host_identity_verified',y='price',data=df,palette='rainbow');\n",
    "plt.subplot(3, 3, 5) \n",
    "plt.title(\"Validation Distribution\")\n",
    "plt.xlabel(\"Description Length\")\n",
    "sns.boxplot(x='room_type',y='price',data=df,palette='rainbow');\n",
    "plt.subplot(3, 3, 6) \n",
    "plt.title(\"Validation Distribution\")\n",
    "plt.xlabel(\"Description Length\")\n",
    "sns.boxplot(x='bed_type',y='price',data=df,palette='rainbow');\n",
    "plt.subplot(3, 3, 7)\n",
    "plt.title(\"Train Distribution\")\n",
    "plt.xlabel(\"Description Length\")\n",
    "sns.boxplot(x='cancellation_policy',y='price',data=df,palette='rainbow');"
   ]
  },
  {
   "cell_type": "markdown",
   "id": "RHMTE84wcR1V",
   "metadata": {
    "id": "RHMTE84wcR1V"
   },
   "source": [
    "From the figure, we can see the distribution of price on each level of categorical feature. \n",
    "\n",
    "As for features 'experiences_offered', family level has a high mean value while social level has the least mean price. \n",
    "\n",
    "As for features 'room_type' and ''cacellation_policy, different levels also have a distinct different price distribution. \n",
    "\n",
    "As for 'host_has_profic_pic', 'host_identity_verified' and 'host_is_superhpst', there is not much difference between these levels."
   ]
  },
  {
   "cell_type": "markdown",
   "id": "bce9defe",
   "metadata": {
    "id": "bce9defe"
   },
   "source": [
    "### Categorical feature selection"
   ]
  },
  {
   "cell_type": "markdown",
   "id": "02EfQwgqRFNh",
   "metadata": {
    "id": "02EfQwgqRFNh"
   },
   "source": [
    "Here we performed the ANOVA Test to see the correlation among the categorical features with price.\n",
    "\n",
    "The aim is to check the correlation between a continous target(price) with categorical features. Therefore, Fisher score/ ANOVA is suitable here.\n",
    "\n",
    "With ANOVA test, we estimate and analyze the difference in the statistical mean of every group of the independent categorical variable.\n",
    "\n",
    "In the case of the ANOVA test, our Null hypothesis would claim the following: “The statistical mean of all the groups/categories of the variables is the same.”\n",
    "\n",
    "Considering significance value as 0.05. we say that if the p value is less than 0.05, we assume and claim that there is considerable differences in the mean of the groups formed by each level of the categorical data. That is, we reject the NULL hypothesis."
   ]
  },
  {
   "cell_type": "code",
   "execution_count": 40,
   "id": "f7cda4c3",
   "metadata": {
    "id": "f7cda4c3",
    "outputId": "f862f2e9-af36-410c-afe4-fb0d8f619d2e"
   },
   "outputs": [
    {
     "name": "stdout",
     "output_type": "stream",
     "text": [
      "                        df        sum_sq        mean_sq        F        PR(>F)\n",
      "host_is_superhost      1.0  6.324810e+05  632481.030961  90.3397  2.082893e-21\n",
      "Residual           55282.0  3.870371e+08    7001.141563      NaN           NaN\n",
      "                           df        sum_sq       mean_sq         F    PR(>F)\n",
      "host_has_profile_pic      1.0  3.884438e+04  38844.379432  5.539795  0.018592\n",
      "Residual              55282.0  3.876307e+08   7011.879898       NaN       NaN\n",
      "                             df        sum_sq        mean_sq          F  \\\n",
      "host_identity_verified      1.0  2.709359e+05  270935.864017  38.662696   \n",
      "Residual                55282.0  3.873987e+08    7007.681579        NaN   \n",
      "\n",
      "                              PR(>F)  \n",
      "host_identity_verified  5.073358e-10  \n",
      "Residual                         NaN  \n",
      "                          df        sum_sq        mean_sq          F  \\\n",
      "experiences_offered      4.0  1.706659e+06  426664.656301  61.108448   \n",
      "Residual             55279.0  3.859629e+08    6982.089587        NaN   \n",
      "\n",
      "                           PR(>F)  \n",
      "experiences_offered  1.341691e-51  \n",
      "Residual                      NaN  \n",
      "                df        sum_sq       mean_sq            F  PR(>F)\n",
      "room_type      3.0  1.133833e+08  3.779444e+07  7617.137822     0.0\n",
      "Residual   55280.0  2.742863e+08  4.961763e+03          NaN     NaN\n",
      "               df        sum_sq        mean_sq          F        PR(>F)\n",
      "bed_type      4.0  7.952198e+05  198804.947858  28.406479  1.296935e-23\n",
      "Residual  55279.0  3.868744e+08    6998.577564        NaN           NaN\n",
      "                          df        sum_sq       mean_sq           F  PR(>F)\n",
      "cancellation_policy      7.0  2.291597e+07  3.273710e+06  496.109099     0.0\n",
      "Residual             55276.0  3.647536e+08  6.598770e+03         NaN     NaN\n"
     ]
    }
   ],
   "source": [
    "for col in col_info['cat_cols']:\n",
    "    model = ols('price' + '~' + col, data = df).fit()\n",
    "    result_anova = sm.stats.anova_lm(model) # ANOVA Test\n",
    "    print(result_anova)"
   ]
  },
  {
   "cell_type": "markdown",
   "id": "1-dA19syiZvf",
   "metadata": {
    "id": "1-dA19syiZvf"
   },
   "source": [
    "From the result, all categorical variables has a p-value less than 0.05. Therefore, we will keep all the categorical features."
   ]
  },
  {
   "cell_type": "markdown",
   "id": "d418ebdd",
   "metadata": {
    "id": "d418ebdd"
   },
   "source": [
    "## 2.5 Splitting data"
   ]
  },
  {
   "cell_type": "markdown",
   "id": "PTIvPoNJRfk3",
   "metadata": {
    "id": "PTIvPoNJRfk3"
   },
   "source": [
    "Here we split the dataframe into train and validation dataset. \n",
    "\n",
    "The models will be built based on training dataset and validated on the validation dataset."
   ]
  },
  {
   "cell_type": "code",
   "execution_count": 41,
   "id": "5c537dd8",
   "metadata": {
    "id": "5c537dd8"
   },
   "outputs": [],
   "source": [
    "y = df['price']\n",
    "X = df.drop(['price'], axis=1)\n",
    "\n",
    "X_train, X_val, y_train, y_val = train_test_split(X,y, shuffle=True, random_state= 1)"
   ]
  },
  {
   "cell_type": "markdown",
   "id": "ghvSdh8dDg5e",
   "metadata": {
    "id": "ghvSdh8dDg5e"
   },
   "source": [
    "# 3.Feature Engineering"
   ]
  },
  {
   "cell_type": "markdown",
   "id": "TFh_BBZvSO9b",
   "metadata": {
    "id": "TFh_BBZvSO9b"
   },
   "source": [
    "In this part, we will perform feature engineer in order to prepare the data for feeding into models."
   ]
  },
  {
   "cell_type": "markdown",
   "id": "6926bce4",
   "metadata": {
    "id": "6926bce4"
   },
   "source": [
    "## 3.1 Text feature engineer"
   ]
  },
  {
   "cell_type": "markdown",
   "id": "hHiUOUKVB8sC",
   "metadata": {
    "id": "hHiUOUKVB8sC"
   },
   "source": [
    "After cleaning and preprocessing data, we need to vectorize each text\n",
    "to numerical sequence, in order to prepare for feeding text into models.\n",
    "\n",
    "We will introduce two commen techniques here, namely TFIDF and word embedding."
   ]
  },
  {
   "cell_type": "markdown",
   "id": "7787c853",
   "metadata": {
    "id": "7787c853"
   },
   "source": [
    "### TF-IDF"
   ]
  },
  {
   "cell_type": "markdown",
   "id": "JR3mKR6QECIb",
   "metadata": {
    "id": "JR3mKR6QECIb"
   },
   "source": [
    "Tf-idf stands for term frequency-inverse document frequency. Typically, the tf-idf weight is composed by two terms: the first computes the normalized Term Frequency (TF); the second term is the Inverse Document Frequency (IDF)."
   ]
  },
  {
   "cell_type": "markdown",
   "id": "EDws5bdKFn92",
   "metadata": {
    "id": "EDws5bdKFn92"
   },
   "source": [
    "TFIDF is easy to compute and commonly use in NLP task. Additionally, it offers an improvement on count-based representations. However, compared to word embedding, TF-IDF cannot help carry semantic meaning.\n",
    "\n",
    "We implemented TF-IDF by using 'TfidfVectorizer' which is offered by sklearn. It will help us convert a collection of raw documents to a matrix of TF-IDF features."
   ]
  },
  {
   "cell_type": "code",
   "execution_count": 42,
   "id": "6f17d438",
   "metadata": {
    "colab": {
     "base_uri": "https://localhost:8080/",
     "height": 235
    },
    "executionInfo": {
     "elapsed": 611,
     "status": "error",
     "timestamp": 1661885790041,
     "user": {
      "displayName": "sinan wang",
      "userId": "10867476344742083709"
     },
     "user_tz": -120
    },
    "id": "6f17d438",
    "outputId": "2cf65189-bf32-45e7-9e9a-4563c0bbde06"
   },
   "outputs": [],
   "source": [
    "vectorizer1 = TfidfVectorizer()\n",
    "\n",
    "vectorizer2 = TfidfVectorizer(\n",
    "    min_df = 0.02, max_df=0.98\n",
    ")"
   ]
  },
  {
   "cell_type": "markdown",
   "id": "0aqm87xeHCho",
   "metadata": {
    "id": "0aqm87xeHCho"
   },
   "source": [
    "We build the vocalbulary based on training dataset and then apply to validation and testing dataset.\n",
    "\n",
    "Furthermore, we set up some restrictions(min_df and max_df) when build vocabulary of description. With these restriction, it can narrow down the vocalbulary size by filtering out highly appeared or barely appeared words. Because with a large vocalbulary, TF-IDF can suffer from the curse of dimensionality, which brings the overfitting problem."
   ]
  },
  {
   "cell_type": "code",
   "execution_count": 43,
   "id": "130c7a45",
   "metadata": {
    "id": "130c7a45",
    "outputId": "0de6f511-db5b-4eef-e1f3-ec2d77fe0598"
   },
   "outputs": [
    {
     "name": "stdout",
     "output_type": "stream",
     "text": [
      "size265\n",
      "['access' 'accessible' 'aid' 'air' 'alfresco' 'allowed' 'alone' 'amazon'\n",
      " 'area' 'around' 'baby' 'babysitter' 'backyard' 'baking' 'balcony' 'bar'\n",
      " 'barbecue' 'basic' 'bath' 'bathroom' 'bathtub' 'bbq' 'beach' 'beachfront'\n",
      " 'bed' 'bedroom' 'bidet' 'blanket' 'board' 'body' 'book' 'bread'\n",
      " 'breakfast' 'building' 'buzzer' 'cable' 'carbon' 'card' 'cat' 'ceiling'\n",
      " 'central' 'chair' 'changing' 'charger' 'check' 'checkout' 'chef' 'child'\n",
      " 'cleaning' 'clearance' 'coffee' 'comfort' 'computer' 'conditioning'\n",
      " 'connection' 'console' 'convection' 'cooking' 'cooler' 'corner' 'court'\n",
      " 'cover' 'crib' 'darkening' 'day' 'detector' 'dining' 'dinnerware'\n",
      " 'disabled' 'dish' 'dishwasher' 'dog' 'door' 'doorman' 'doorway' 'double'\n",
      " 'drawer' 'dropoff' 'dryer' 'dvd' 'echo' 'elevator' 'enter' 'entrance'\n",
      " 'entryway' 'equipment' 'espresso' 'essential' 'ethernet' 'event'\n",
      " 'exercise' 'extinguisher' 'extra' 'family' 'fan' 'fax' 'fire' 'fireplace'\n",
      " 'firm' 'first']\n"
     ]
    }
   ],
   "source": [
    "ame_train= vectorizer1.fit_transform(X_train.amenitiesclean)\n",
    "ame_val= vectorizer1.transform(X_val.amenitiesclean)\n",
    "ame_test= vectorizer1.transform(x_test.amenitiesclean)\n",
    "vocab = vectorizer1.get_feature_names_out()\n",
    "print('size' +str(len(vocab)))\n",
    "print(vocab[0:100])\n",
    "ame_train =ame_train.toarray()\n",
    "ame_val =ame_val.toarray()\n",
    "ame_test = ame_test.toarray()"
   ]
  },
  {
   "cell_type": "code",
   "execution_count": 44,
   "id": "6681d979",
   "metadata": {
    "id": "6681d979",
    "outputId": "bb84efad-b6c5-4a93-8fa7-a3d1d2656579"
   },
   "outputs": [
    {
     "name": "stdout",
     "output_type": "stream",
     "text": [
      "size581\n",
      "['able' 'access' 'accessible' 'accommodate' 'accommodation' 'across'\n",
      " 'additional' 'adventurer' 'air' 'airbnb' 'airport' 'airy' 'along' 'also'\n",
      " 'always' 'amazing' 'amenity' 'angel' 'another' 'answer' 'anything'\n",
      " 'apartment' 'appliance' 'area' 'around' 'arrival' 'art' 'ask'\n",
      " 'attraction' 'available' 'away' 'back' 'balcony' 'bank' 'bar' 'base'\n",
      " 'basic' 'bath' 'bathroom' 'beautiful' 'beautifully' 'bed' 'bedding'\n",
      " 'bedroom' 'ben' 'benefit' 'best' 'big' 'block' 'board' 'boast' 'book'\n",
      " 'booking' 'borough' 'boutique' 'brand' 'breakfast' 'brick' 'bridge'\n",
      " 'bright' 'british' 'brixton' 'broadway' 'building' 'built' 'bus'\n",
      " 'business' 'busy' 'cafe' 'call' 'camden' 'canal' 'canary' 'car' 'cat'\n",
      " 'ceiling' 'center' 'central' 'centre' 'chair' 'charming' 'check'\n",
      " 'chelsea' 'chest' 'child' 'choice' 'cinema' 'circus' 'city' 'clapham'\n",
      " 'clean' 'cleaned' 'close' 'clothes' 'club' 'coffee' 'come' 'comfort'\n",
      " 'comfortable' 'comfortably']\n"
     ]
    }
   ],
   "source": [
    "des_train= vectorizer2.fit_transform(X_train.desclean)\n",
    "des_val= vectorizer2.transform(X_val.desclean)\n",
    "des_test= vectorizer2.transform(x_test.desclean)\n",
    "vocab = vectorizer2.get_feature_names_out()\n",
    "print('size' +str(len(vocab)))\n",
    "print(vocab[0:100])\n",
    "des_train =des_train.toarray()\n",
    "des_val =des_val.toarray()\n",
    "des_test = des_test.toarray()"
   ]
  },
  {
   "cell_type": "markdown",
   "id": "12cb6d1f",
   "metadata": {
    "id": "12cb6d1f"
   },
   "source": [
    "### Vectorization(preparation for word embedding)"
   ]
  },
  {
   "cell_type": "markdown",
   "id": "BNXHnjplJVGj",
   "metadata": {
    "id": "BNXHnjplJVGj"
   },
   "source": [
    "\n",
    "In this step, we will prepare the vectorized text in order to feeding into word embedding layer later.\n",
    "\n",
    "\n",
    "Therefore, we introduce a 'TextVectorization' layer to facilitates the standardization, tokenization and indexing.\n",
    "\n",
    "At first, sentences are splitted into list of words. We can obtain the size of vocalbulary and max length of the text based on training dataset from this step.\n",
    "\n",
    "And then, each text is vectorized to numerical sequence with the same length which is equal to the maximum length.\n",
    "\n"
   ]
  },
  {
   "cell_type": "code",
   "execution_count": 45,
   "id": "dabc78a9",
   "metadata": {
    "id": "dabc78a9",
    "outputId": "ba5be8ac-7952-4c5b-ef15-8413e7af65e3"
   },
   "outputs": [
    {
     "name": "stdout",
     "output_type": "stream",
     "text": [
      "148 27721\n"
     ]
    },
    {
     "name": "stderr",
     "output_type": "stream",
     "text": [
      "2022-09-08 14:58:24.035061: I tensorflow/core/platform/cpu_feature_guard.cc:151] This TensorFlow binary is optimized with oneAPI Deep Neural Network Library (oneDNN) to use the following CPU instructions in performance-critical operations:  AVX2 FMA\n",
      "To enable them in other operations, rebuild TensorFlow with the appropriate compiler flags.\n"
     ]
    },
    {
     "name": "stdout",
     "output_type": "stream",
     "text": [
      "['', '[UNK]', 'london', 'room', 'bedroom', 'minute', 'walk', 'flat', 'kitchen', 'station']\n",
      "tf.Tensor(\n",
      "[[  41  293   13 ...    0    0    0]\n",
      " [ 178 5191  150 ...    0    0    0]\n",
      " [ 193   42   42 ...    0    0    0]\n",
      " ...\n",
      " [ 113  873  264 ...    0    0    0]\n",
      " [  23   41    4 ...    0    0    0]\n",
      " [  40   56   50 ...    0    0    0]], shape=(41463, 148), dtype=int64)\n"
     ]
    }
   ],
   "source": [
    "description_vector_train =X_train.desclean\n",
    "description_vector_train = description_vector_train.to_numpy()\n",
    "\n",
    "tokenizerdes = Tokenizer(oov_token=\"<UNK>\")\n",
    "tokenizerdes.fit_on_texts(description_vector_train) #Training tokenizer on train data\n",
    "train_sequences1 = tokenizerdes.texts_to_sequences(description_vector_train) #Converting train texts to sequences \n",
    "max_len1 = np.max([len(seq) for seq in train_sequences1])  \n",
    "vocab_size1 = len(tokenizerdes.word_index)+1\n",
    "print(max_len1,vocab_size1)\n",
    "seq_length1 = max_len1.item()\n",
    "\n",
    "# Create a vectorization layer\n",
    "vectorize_layer1 = TextVectorization(\n",
    "    max_tokens = vocab_size1,\n",
    "    output_sequence_length = seq_length1\n",
    "    )\n",
    "\n",
    "vectorize_layer1.adapt(description_vector_train)\n",
    "vocab = vectorize_layer1.get_vocabulary()\n",
    "print(vocab[:10])\n",
    "\n",
    "description_vector_train = vectorize_layer1(description_vector_train)\n",
    "print(description_vector_train)\n",
    "\n",
    "description_vector_val =X_val.desclean\n",
    "description_vector_val = description_vector_val.to_numpy()\n",
    "description_vector_val = vectorize_layer1(description_vector_val)\n",
    "\n",
    "description_vector_test =x_test.desclean\n",
    "description_vector_test = description_vector_test.to_numpy()\n",
    "description_vector_test = vectorize_layer1(description_vector_test)"
   ]
  },
  {
   "cell_type": "code",
   "execution_count": 46,
   "id": "80c14c8f",
   "metadata": {
    "id": "80c14c8f",
    "outputId": "29558515-dc8c-4e56-9e42-2e10a70d0846"
   },
   "outputs": [
    {
     "name": "stdout",
     "output_type": "stream",
     "text": [
      "194 267\n",
      "['', '[UNK]', 'detector', 'dryer', 'wifi', 'heating', 'essential', 'kitchen', 'friendly', 'smoke']\n",
      "tf.Tensor(\n",
      "[[ 4  7 40 ...  0  0  0]\n",
      " [ 4 93 95 ...  0  0  0]\n",
      " [ 4  7  5 ...  0  0  0]\n",
      " ...\n",
      " [ 4  7 53 ...  0  0  0]\n",
      " [52  4  7 ...  0  0  0]\n",
      " [ 4  7 69 ...  0  0  0]], shape=(41463, 194), dtype=int64)\n"
     ]
    }
   ],
   "source": [
    "amenities_vector_train =X_train.amenitiesclean\n",
    "amenities_vector_train = amenities_vector_train.to_numpy()\n",
    "\n",
    "tokenizeramenities = Tokenizer(oov_token=\"<UNK>\") \n",
    "tokenizeramenities.fit_on_texts(amenities_vector_train) #Training tokenizer on train data\n",
    "train_sequences1 = tokenizeramenities.texts_to_sequences(amenities_vector_train) #Converting train texts to sequences \n",
    "max_len2 = np.max([len(seq) for seq in train_sequences1])\n",
    "vocab_size2 = len(tokenizeramenities.word_index)+1\n",
    "print(max_len2,vocab_size2)\n",
    "seq_length2 = max_len2.item()\n",
    "\n",
    "# Create a vectorization layer\n",
    "vectorize_layer4 = TextVectorization(\n",
    "    max_tokens = vocab_size2,\n",
    "    output_sequence_length = seq_length2\n",
    "    )\n",
    "\n",
    "vectorize_layer4.adapt(amenities_vector_train)\n",
    "vocab = vectorize_layer4.get_vocabulary()\n",
    "print(vocab[:10])\n",
    "\n",
    "amenities_vector_train = vectorize_layer4(amenities_vector_train)\n",
    "print(amenities_vector_train)\n",
    "\n",
    "amenities_vector_val =X_val.amenitiesclean\n",
    "amenitiesn_vector_val = amenities_vector_val.to_numpy()\n",
    "amenities_vector_val = vectorize_layer4(amenities_vector_val)\n",
    "\n",
    "amenities_vector_test =x_test.amenitiesclean\n",
    "amenities_vector_test = amenities_vector_test.to_numpy()\n",
    "amenities_vector_test = vectorize_layer4(amenities_vector_test)"
   ]
  },
  {
   "cell_type": "markdown",
   "id": "2262bf6c",
   "metadata": {},
   "source": [
    "### Pre-trained embedding"
   ]
  },
  {
   "cell_type": "markdown",
   "id": "c735e6e1",
   "metadata": {},
   "source": [
    "We can also use pre-trained embedding that were crafted from big corpora. Glove, which is short for Global Vectors for Word Representation. It's a popular embedding technique based on aggregating global word-word co-occurrence matrix from a corpus (https://nlp.stanford.edu/projects/glove/). We will use the weights later in CNN models."
   ]
  },
  {
   "cell_type": "code",
   "execution_count": 47,
   "id": "3103db63",
   "metadata": {},
   "outputs": [
    {
     "name": "stdout",
     "output_type": "stream",
     "text": [
      "Found 400000 word vectors.\n"
     ]
    }
   ],
   "source": [
    "glove_index = {}\n",
    "with open('/Users/kelly/Desktop/adams/assignment/Data/' + 'glove.6B.50d.txt', 'r', encoding=\"utf8\") as f:\n",
    "    for line in f:\n",
    "        values = line.split()\n",
    "        word = values[0]\n",
    "        coefs = np.asarray(values[1:], dtype='float32')\n",
    "        glove_index[word] = coefs\n",
    "\n",
    "print('Found %s word vectors.' % len(glove_index))"
   ]
  },
  {
   "cell_type": "markdown",
   "id": "7ce38593",
   "metadata": {},
   "source": [
    "The function below is referenced to the notebook:https://github.com/Humboldt-WI/adams/blob/master/work-in-progress/sentiment-analysis.ipynb"
   ]
  },
  {
   "cell_type": "code",
   "execution_count": 48,
   "id": "f9089c65",
   "metadata": {},
   "outputs": [],
   "source": [
    "def get_embedding_matrix(tokenizer, pretrain, vocab_size):\n",
    "    '''\n",
    "        Helper function to construct an embedding matrix for \n",
    "        the focal corpus based on some pre-trained embeddings.\n",
    "    '''\n",
    "    \n",
    "    dim = 0\n",
    "    if isinstance(pretrain, KeyedVectors) or isinstance(pretrain, Word2VecKeyedVectors):\n",
    "        dim = pretrain.vector_size        \n",
    "    elif isinstance(pretrain, dict):\n",
    "        dim = next(iter(pretrain.values())).shape[0]  # get embedding of an arbitrary word\n",
    "    else:\n",
    "        raise Exception('{} is not supported'.format(type(pretrain)))\n",
    "    \n",
    "    emb_mat = np.zeros((vocab_size, dim))\n",
    "   \n",
    "    oov_words = []\n",
    "   \n",
    "    for word, i in tokenizer.word_index.items():  \n",
    "        \n",
    "        try:\n",
    "            emb_mat[i] = pretrain[word]\n",
    "        except:\n",
    "            oov_words.append(word)\n",
    "    print('Created embedding matrix of shape {}'.format(emb_mat.shape))\n",
    "    print('Encountered {} out-of-vocabulary words.'.format(len(oov_words)))\n",
    "    return (emb_mat, oov_words)"
   ]
  },
  {
   "cell_type": "code",
   "execution_count": 49,
   "id": "1d2768b6",
   "metadata": {},
   "outputs": [
    {
     "name": "stdout",
     "output_type": "stream",
     "text": [
      "Created embedding matrix of shape (267, 50)\n",
      "Encountered 1 out-of-vocabulary words.\n"
     ]
    }
   ],
   "source": [
    "amenities_weights, _ = get_embedding_matrix(tokenizeramenities, glove_index, vocab_size2)"
   ]
  },
  {
   "cell_type": "code",
   "execution_count": 50,
   "id": "dfb4954c",
   "metadata": {},
   "outputs": [
    {
     "name": "stdout",
     "output_type": "stream",
     "text": [
      "Created embedding matrix of shape (27721, 50)\n",
      "Encountered 8338 out-of-vocabulary words.\n"
     ]
    }
   ],
   "source": [
    "des_weights, _ = get_embedding_matrix(tokenizerdes, glove_index, vocab_size1)"
   ]
  },
  {
   "cell_type": "markdown",
   "id": "34e667a7",
   "metadata": {
    "id": "34e667a7"
   },
   "source": [
    "## 3.2 Numerical feature engineer"
   ]
  },
  {
   "cell_type": "markdown",
   "id": "YgC_fdBKShdg",
   "metadata": {
    "id": "YgC_fdBKShdg"
   },
   "source": [
    "As we know, different numerical variables have different value ranges. This might cause problems to the prediction results. Therefore, we will perform scaling for the numerical features. After scaling, the values of each numerical feature will distribute in the same and controlled range. \n",
    "\n",
    "\n",
    "There are also varias approaches to scale the features.Two major ways could be: standardization and min-max scaling (also known as normalization). Here we will perform standardization using 'StandardScaler'.\n",
    "\n",
    "After standardization, your feature will now be distributed around a mean feature value of zero with standard deviation equal to one.\n",
    "\n",
    "$$ X_{new} = \\frac{X-\\mu}{\\sigma} $$\n"
   ]
  },
  {
   "cell_type": "code",
   "execution_count": 51,
   "id": "1285c26a",
   "metadata": {
    "id": "1285c26a",
    "outputId": "0b5d0ad5-6990-466d-da85-c397033cac92"
   },
   "outputs": [
    {
     "data": {
      "text/html": [
       "<div>\n",
       "<style scoped>\n",
       "    .dataframe tbody tr th:only-of-type {\n",
       "        vertical-align: middle;\n",
       "    }\n",
       "\n",
       "    .dataframe tbody tr th {\n",
       "        vertical-align: top;\n",
       "    }\n",
       "\n",
       "    .dataframe thead th {\n",
       "        text-align: right;\n",
       "    }\n",
       "</style>\n",
       "<table border=\"1\" class=\"dataframe\">\n",
       "  <thead>\n",
       "    <tr style=\"text-align: right;\">\n",
       "      <th></th>\n",
       "      <th>accommodates</th>\n",
       "      <th>bedrooms</th>\n",
       "      <th>beds</th>\n",
       "      <th>bathrooms</th>\n",
       "      <th>guests_included</th>\n",
       "      <th>host_total_listings_count</th>\n",
       "      <th>amenities_num</th>\n",
       "      <th>longitude</th>\n",
       "      <th>deslen</th>\n",
       "      <th>sentiment</th>\n",
       "      <th>review_scores_location</th>\n",
       "      <th>review_scores_value</th>\n",
       "      <th>reviews_per_month</th>\n",
       "    </tr>\n",
       "  </thead>\n",
       "  <tbody>\n",
       "    <tr>\n",
       "      <th>0</th>\n",
       "      <td>-0.585607</td>\n",
       "      <td>-0.433922</td>\n",
       "      <td>-0.577669</td>\n",
       "      <td>-0.498677</td>\n",
       "      <td>-0.450236</td>\n",
       "      <td>-0.167966</td>\n",
       "      <td>-0.243826</td>\n",
       "      <td>-0.892449</td>\n",
       "      <td>-1.685450</td>\n",
       "      <td>0.358772</td>\n",
       "      <td>0.473638</td>\n",
       "      <td>0.885234</td>\n",
       "      <td>0.686831</td>\n",
       "    </tr>\n",
       "    <tr>\n",
       "      <th>1</th>\n",
       "      <td>-0.585607</td>\n",
       "      <td>-0.433922</td>\n",
       "      <td>-0.577669</td>\n",
       "      <td>-0.498677</td>\n",
       "      <td>-0.450236</td>\n",
       "      <td>-0.055052</td>\n",
       "      <td>-0.580131</td>\n",
       "      <td>-0.748095</td>\n",
       "      <td>0.666982</td>\n",
       "      <td>0.412766</td>\n",
       "      <td>0.473638</td>\n",
       "      <td>0.885234</td>\n",
       "      <td>1.193827</td>\n",
       "    </tr>\n",
       "    <tr>\n",
       "      <th>2</th>\n",
       "      <td>-0.585607</td>\n",
       "      <td>-0.433922</td>\n",
       "      <td>-0.577669</td>\n",
       "      <td>2.150589</td>\n",
       "      <td>-0.450236</td>\n",
       "      <td>-0.167966</td>\n",
       "      <td>-0.243826</td>\n",
       "      <td>-0.215490</td>\n",
       "      <td>-1.598963</td>\n",
       "      <td>-0.946279</td>\n",
       "      <td>0.473638</td>\n",
       "      <td>-0.218328</td>\n",
       "      <td>-0.293914</td>\n",
       "    </tr>\n",
       "    <tr>\n",
       "      <th>3</th>\n",
       "      <td>-1.102379</td>\n",
       "      <td>-0.433922</td>\n",
       "      <td>-0.577669</td>\n",
       "      <td>0.384412</td>\n",
       "      <td>-0.450236</td>\n",
       "      <td>-0.167966</td>\n",
       "      <td>-0.804334</td>\n",
       "      <td>0.676667</td>\n",
       "      <td>-1.823828</td>\n",
       "      <td>-0.012211</td>\n",
       "      <td>0.473638</td>\n",
       "      <td>-0.218328</td>\n",
       "      <td>-0.293914</td>\n",
       "    </tr>\n",
       "    <tr>\n",
       "      <th>4</th>\n",
       "      <td>-0.068836</td>\n",
       "      <td>-0.433922</td>\n",
       "      <td>0.238159</td>\n",
       "      <td>-0.498677</td>\n",
       "      <td>0.332692</td>\n",
       "      <td>-0.150595</td>\n",
       "      <td>-0.355928</td>\n",
       "      <td>-0.618571</td>\n",
       "      <td>0.649685</td>\n",
       "      <td>0.405053</td>\n",
       "      <td>0.473638</td>\n",
       "      <td>0.885234</td>\n",
       "      <td>-0.094440</td>\n",
       "    </tr>\n",
       "  </tbody>\n",
       "</table>\n",
       "</div>"
      ],
      "text/plain": [
       "   accommodates  bedrooms      beds  bathrooms  guests_included  \\\n",
       "0     -0.585607 -0.433922 -0.577669  -0.498677        -0.450236   \n",
       "1     -0.585607 -0.433922 -0.577669  -0.498677        -0.450236   \n",
       "2     -0.585607 -0.433922 -0.577669   2.150589        -0.450236   \n",
       "3     -1.102379 -0.433922 -0.577669   0.384412        -0.450236   \n",
       "4     -0.068836 -0.433922  0.238159  -0.498677         0.332692   \n",
       "\n",
       "   host_total_listings_count  amenities_num  longitude    deslen  sentiment  \\\n",
       "0                  -0.167966      -0.243826  -0.892449 -1.685450   0.358772   \n",
       "1                  -0.055052      -0.580131  -0.748095  0.666982   0.412766   \n",
       "2                  -0.167966      -0.243826  -0.215490 -1.598963  -0.946279   \n",
       "3                  -0.167966      -0.804334   0.676667 -1.823828  -0.012211   \n",
       "4                  -0.150595      -0.355928  -0.618571  0.649685   0.405053   \n",
       "\n",
       "   review_scores_location  review_scores_value  reviews_per_month  \n",
       "0                0.473638             0.885234           0.686831  \n",
       "1                0.473638             0.885234           1.193827  \n",
       "2                0.473638            -0.218328          -0.293914  \n",
       "3                0.473638            -0.218328          -0.293914  \n",
       "4                0.473638             0.885234          -0.094440  "
      ]
     },
     "execution_count": 51,
     "metadata": {},
     "output_type": "execute_result"
    }
   ],
   "source": [
    "X_train_num =X_train[col_info['num_cols']]\n",
    "X_val_num =X_val[col_info['num_cols']]\n",
    "x_test_num =x_test[col_info['num_cols']]\n",
    "\n",
    "numerical_transformer = StandardScaler()\n",
    "X_train_numscale = numerical_transformer.fit_transform(X_train_num)\n",
    "X_train_num =pd.DataFrame(X_train_numscale, index = X_train_num.index,columns= X_train_num.columns)\n",
    "\n",
    "X_val_numscale =numerical_transformer.transform(X_val_num)\n",
    "X_val_num = pd.DataFrame(X_val_numscale, index =X_val_num.index,columns= X_val_num.columns)\n",
    "\n",
    "x_test_numscale =numerical_transformer.transform(x_test_num)\n",
    "x_test_num = pd.DataFrame(x_test_numscale, index= x_test_num.index,columns= x_test_num.columns)\n",
    "x_test_num.head()"
   ]
  },
  {
   "cell_type": "markdown",
   "id": "22e7d72b",
   "metadata": {
    "id": "22e7d72b"
   },
   "source": [
    "## 3.3 Categorical feature engineer"
   ]
  },
  {
   "cell_type": "markdown",
   "id": "IaARixmDUJbP",
   "metadata": {
    "id": "IaARixmDUJbP"
   },
   "source": [
    "As for categorical features, we will get dummy variables from all the level.\n",
    "\n",
    "It is also important to keep the training dataset, validation dataset and test dataset in the same dimensions."
   ]
  },
  {
   "cell_type": "code",
   "execution_count": 52,
   "id": "4439af87",
   "metadata": {
    "id": "4439af87",
    "outputId": "269d5ace-9024-4288-d719-977b12e9304b"
   },
   "outputs": [
    {
     "name": "stdout",
     "output_type": "stream",
     "text": [
      "(13821, 28)\n",
      "(41463, 28)\n",
      "(29769, 26)\n"
     ]
    }
   ],
   "source": [
    "X_train_dummy = pd.get_dummies(X_train[col_info['cat_cols']], columns = col_info['cat_cols'])\n",
    "X_val_dummy = pd.get_dummies(X_val[col_info['cat_cols']], columns = col_info['cat_cols'])\n",
    "x_test_dummy = pd.get_dummies(x_test[col_info['cat_cols']], columns = col_info['cat_cols'])\n",
    "\n",
    "print(X_val_dummy.shape)\n",
    "print(X_train_dummy.shape)\n",
    "print(x_test_dummy.shape)"
   ]
  },
  {
   "cell_type": "code",
   "execution_count": 53,
   "id": "e6f0bef5",
   "metadata": {
    "id": "e6f0bef5"
   },
   "outputs": [],
   "source": [
    "#ensure the same dimensionality\n",
    "x_test_dummy['cancellation_policy_luxury_super_strict_95']=0\n",
    "x_test_dummy['cancellation_policy_luxury_moderate']=0"
   ]
  },
  {
   "cell_type": "code",
   "execution_count": 54,
   "id": "063eec07",
   "metadata": {
    "id": "063eec07",
    "outputId": "fc707899-c870-4fc0-9752-b8a984656f85"
   },
   "outputs": [
    {
     "name": "stdout",
     "output_type": "stream",
     "text": [
      "(13821, 28)\n",
      "(41463, 28)\n",
      "(29769, 28)\n"
     ]
    }
   ],
   "source": [
    "print(X_val_dummy.shape)\n",
    "print(X_train_dummy.shape)\n",
    "print(x_test_dummy.shape)"
   ]
  },
  {
   "cell_type": "markdown",
   "id": "3c3031a7",
   "metadata": {
    "id": "3c3031a7"
   },
   "source": [
    "## 3.4 Final tabular dataframe combination"
   ]
  },
  {
   "cell_type": "markdown",
   "id": "lgaJzBzCU-SH",
   "metadata": {
    "id": "lgaJzBzCU-SH"
   },
   "source": [
    "At this stage, we combined the selected and preprocessed numerical features and categorical features into one dataframe.\n",
    " \n",
    "We will feed the tabular data into the models finally."
   ]
  },
  {
   "cell_type": "code",
   "execution_count": 55,
   "id": "f776f39d",
   "metadata": {
    "id": "f776f39d"
   },
   "outputs": [],
   "source": [
    "X_train_other = pd.concat([X_train_num,X_train_dummy], axis=1)\n",
    "X_val_other = pd.concat([X_val_num,X_val_dummy], axis=1)\n",
    "x_test_other = pd.concat([x_test_num,x_test_dummy], axis=1)"
   ]
  },
  {
   "cell_type": "code",
   "execution_count": 56,
   "id": "fc2fad36",
   "metadata": {
    "id": "fc2fad36"
   },
   "outputs": [],
   "source": [
    "X_train_meta=X_train_other.values\n",
    "X_val_meta=X_val_other.values\n",
    "x_test_meta=x_test_other.values"
   ]
  },
  {
   "cell_type": "code",
   "execution_count": 57,
   "id": "03dcb77f",
   "metadata": {
    "id": "03dcb77f",
    "outputId": "9af4a164-c101-48c1-cf6c-b5af28305105"
   },
   "outputs": [
    {
     "data": {
      "text/plain": [
       "(41463, 41)"
      ]
     },
     "execution_count": 57,
     "metadata": {},
     "output_type": "execute_result"
    }
   ],
   "source": [
    "X_train_meta.shape"
   ]
  },
  {
   "cell_type": "markdown",
   "id": "JnxVRKTUEqyV",
   "metadata": {
    "id": "JnxVRKTUEqyV"
   },
   "source": [
    "# 4.Model Selection"
   ]
  },
  {
   "cell_type": "markdown",
   "id": "1tAO27y0gS1o",
   "metadata": {
    "id": "1tAO27y0gS1o"
   },
   "source": [
    "In this section, I will build the models and compare the performance of the models.\n",
    "\n",
    "I selected models in the range of machine learning and deep learning models. Random forest will act as a representative ensemble models in machine learning. As for deep learning models, feed forward neural network, RNN and CNN will be introduced.\n",
    "\n",
    "The performance of models will be compared in the dimension of building time, MSE and MAE. The result can be found in the table."
   ]
  },
  {
   "cell_type": "markdown",
   "id": "lUBthTLqE2HP",
   "metadata": {
    "id": "lUBthTLqE2HP"
   },
   "source": [
    "## 4.1 Random forest"
   ]
  },
  {
   "cell_type": "markdown",
   "id": "PMlK6q6vihCK",
   "metadata": {
    "id": "PMlK6q6vihCK"
   },
   "source": [
    "Random forest is a representative of ensemble learners and we will compare the performance with other models.\n",
    "\n",
    "Features:\n",
    "\n",
    "We will make use of the processsed tabular data and TF-IDF processed textual data together or seperately to build the model. From trying the combinations of features, we will figure out which combination of features perform the best and use the combination of features in deep learning models later.\n",
    "\n",
    "The following steps will be performed in this part:\n",
    "\n",
    "1.Building model with tabular features:\n",
    "1.1 Model tuning1.2 Feature importance interpretation\n",
    "\n",
    "2.Building model with tabular features+ Text features(TF-IDF)"
   ]
  },
  {
   "cell_type": "markdown",
   "id": "tE7q4xOl5ABG",
   "metadata": {
    "id": "tE7q4xOl5ABG"
   },
   "source": [
    "We compare the performance of random forest with different features from the dimensions of traing time, MSE and MAE.\n",
    "\n",
    "|Model|Feature| Training time(seconds) | MSE | RMSE|MAE|  \n",
    "|---|---|---|---|---|---|\n",
    "|1|Tabular data|26.53|2647.08|51.45|32.07|\n",
    "|2|Tabular data(fine tuned)|28.05|2571.59|50.71|31.53|\n",
    "|3|Tabular data + amenities|255.06|2517.15|50.17|30.91|\n",
    "|4|Tabular data + description|693.73|2477.82|49.78|30.20|\n",
    "|5|Tabular data + amenities + description|1053.19|2443.64|49.43|29.88|\n",
    "\n",
    "From the table, we can see that random forest using tabular data have already given us a reasonable result with RMSE 51.45 and MAE 32.07.  The MAE and MSE decrease when we combined the one text data with tabular data, while the training time increase more than 20 times comparing the random forest using tabular data and description with only using tabular data. Therefore, we can see that the amenities text data and description text data all add information to the model. We obtain the random forest with best RMSE(49.74) and MAE(29.88) from combination of tabular data, amenities text data and description text data. We will also introduce the combination of the features into the deep learning models later. But the training time increases extremely, which also indicates the disadvantage of random forest in training speed of textual data.\n",
    "\n",
    "\n",
    "In order to increase readability, we only keep the code of model 1,2 and 5 in the following. The code of other models can be found in another notebook."
   ]
  },
  {
   "cell_type": "markdown",
   "id": "d8c0e5f4",
   "metadata": {
    "id": "d8c0e5f4"
   },
   "source": [
    "#### Random forest + tabular data input"
   ]
  },
  {
   "cell_type": "code",
   "execution_count": 59,
   "id": "c08babce",
   "metadata": {
    "id": "c08babce",
    "outputId": "47011331-266f-48ba-d0fa-36e475df5d23"
   },
   "outputs": [
    {
     "name": "stdout",
     "output_type": "stream",
     "text": [
      "Training Took 26.53 seconds\n",
      "MSE: 2647.08\n",
      "RMSE: 51.45\n",
      "MAE: 32.07\n"
     ]
    }
   ],
   "source": [
    "rf  = RandomForestRegressor(random_state=1)\n",
    "\n",
    "start_time = time.perf_counter()\n",
    "rf.fit(X_train_meta,y_train)\n",
    "end_time = time.perf_counter()\n",
    "total_time = end_time - start_time\n",
    "\n",
    "\n",
    "prediction = pd.DataFrame({\"Prediction\": rf.predict(X_val_meta), \"Actual\": y_val})\n",
    "\n",
    "print(f'Training Took {total_time:.2f} seconds')\n",
    "print(f\"MSE: {mean_squared_error(prediction.Actual, prediction.Prediction):.2f}\")\n",
    "print(f\"RMSE: {math.sqrt(mean_squared_error(prediction.Actual, prediction.Prediction)):.2f}\")\n",
    "print(f\"MAE: {mean_absolute_error(prediction.Actual, prediction.Prediction):.2f}\")"
   ]
  },
  {
   "cell_type": "markdown",
   "id": "rpW3Asy2kSBb",
   "metadata": {
    "id": "rpW3Asy2kSBb"
   },
   "source": [
    "##### Model tuning"
   ]
  },
  {
   "cell_type": "markdown",
   "id": "LRuJVyoqmPaX",
   "metadata": {
    "id": "LRuJVyoqmPaX"
   },
   "source": [
    "We tune the randam forest using a grid search method.\n",
    "\n",
    "The parameters to be tuned are 'n_estimators' and 'max_features'. There are in total 9 candidate models in this process.\n"
   ]
  },
  {
   "cell_type": "code",
   "execution_count": 60,
   "id": "dbf518d9",
   "metadata": {
    "id": "dbf518d9",
    "outputId": "030a4050-82ce-44f4-b4a5-fa58efd7a8dd"
   },
   "outputs": [
    {
     "name": "stdout",
     "output_type": "stream",
     "text": [
      "Fitting 3 folds for each of 9 candidates, totalling 27 fits\n",
      "Training Took 362.6826 seconds\n",
      "{'max_features': 0.5, 'n_estimators': 200}\n"
     ]
    }
   ],
   "source": [
    "#tune rf\n",
    "rf2 = RandomForestRegressor(random_state=1)\n",
    "\n",
    "param_grid = {'n_estimators': [200, 150, 100],\n",
    "             'max_features': [ 0.5, 0.8, 1]}\n",
    "rf_grid = GridSearchCV(rf2, param_grid, \n",
    "                       cv = 3, \n",
    "                       scoring = 'neg_mean_squared_error', verbose = 1)\n",
    "\n",
    "start_time = time.perf_counter()\n",
    "rf_grid.fit(X_train_meta,y_train)\n",
    "end_time = time.perf_counter()\n",
    "total_time = end_time - start_time\n",
    "\n",
    "print(f'Training Took {total_time:.4f} seconds')\n",
    "print(rf_grid.best_params_)"
   ]
  },
  {
   "cell_type": "markdown",
   "id": "POeOJGHiziJ-",
   "metadata": {
    "id": "POeOJGHiziJ-"
   },
   "source": [
    "Then we build the model with tuned parameter to get a better result."
   ]
  },
  {
   "cell_type": "code",
   "execution_count": 61,
   "id": "d0959266",
   "metadata": {
    "id": "d0959266",
    "outputId": "4feb524d-deae-41f3-9aeb-66a8fbe484a1"
   },
   "outputs": [
    {
     "name": "stdout",
     "output_type": "stream",
     "text": [
      "Training Took 28.05 seconds\n",
      "MSE: 2571.59\n",
      "RMSE: 50.71\n",
      "MAE: 31.53\n"
     ]
    }
   ],
   "source": [
    "#tuned random forest\n",
    "rf2  = RandomForestRegressor(n_estimators= 200, max_features=0.5,random_state=1)\n",
    "\n",
    "start_time = time.perf_counter()\n",
    "rf2.fit(X_train_meta,y_train)\n",
    "end_time = time.perf_counter()\n",
    "total_time = end_time - start_time\n",
    "\n",
    "prediction = pd.DataFrame({\"Prediction\": rf2.predict(X_val_meta), \"Actual\": y_val})\n",
    "\n",
    "print(f'Training Took {total_time:.2f} seconds')\n",
    "print(f\"MSE: {mean_squared_error(prediction.Actual, prediction.Prediction):.2f}\")\n",
    "print(f\"RMSE: {math.sqrt(mean_squared_error(prediction.Actual, prediction.Prediction)):.2f}\")\n",
    "print(f\"MAE: {mean_absolute_error(prediction.Actual, prediction.Prediction):.2f}\")"
   ]
  },
  {
   "cell_type": "markdown",
   "id": "0OrTDXPmkWNX",
   "metadata": {
    "id": "0OrTDXPmkWNX"
   },
   "source": [
    "##### Feature importance interpretation"
   ]
  },
  {
   "cell_type": "markdown",
   "id": "3ugPiMpnz9_z",
   "metadata": {
    "id": "3ugPiMpnz9_z"
   },
   "source": [
    "There are in total 41 tabular features in the model, so it is necessary to analysis the importance of feature. Here we are using impurity-based importance to illustrate."
   ]
  },
  {
   "cell_type": "code",
   "execution_count": 62,
   "id": "27cbb573",
   "metadata": {
    "id": "27cbb573",
    "outputId": "d6dbe3f3-cf00-45dc-df73-8555edbaba6e"
   },
   "outputs": [
    {
     "data": {
      "image/png": "[encoded data removed]",
      "text/plain": [
       "<Figure size 1440x720 with 1 Axes>"
      ]
     },
     "metadata": {
      "needs_background": "light"
     },
     "output_type": "display_data"
    }
   ],
   "source": [
    "feat_importances_rf = pd.Series(rf2.feature_importances_, index= X_train_other.columns)\n",
    "feat_importances_rf.nlargest(36).plot(kind='barh');"
   ]
  },
  {
   "cell_type": "markdown",
   "id": "6cS1HKRMzrJt",
   "metadata": {
    "id": "6cS1HKRMzrJt"
   },
   "source": [
    "The score of each feature is normalized to sum to one. From the plot, we can see that accomodates, longitude, room_type_privateroom are top three most important variables as for random forest. However, some variables seem have not much impact on the predictions."
   ]
  },
  {
   "cell_type": "markdown",
   "id": "ab1c0ed3",
   "metadata": {
    "id": "ab1c0ed3"
   },
   "source": [
    "#### Random forest + (tabular input+ amenities text input + description text input)"
   ]
  },
  {
   "cell_type": "markdown",
   "id": "R2WT-tlM1vm8",
   "metadata": {
    "id": "R2WT-tlM1vm8"
   },
   "source": [
    "Here we concate the tabular data with TF-IDF processed amenities and description data into random forest."
   ]
  },
  {
   "cell_type": "code",
   "execution_count": 67,
   "id": "ad49bb65",
   "metadata": {},
   "outputs": [],
   "source": [
    "X_train_rf =np.concatenate((X_train_meta, ame_train, des_train), axis=1)\n",
    "X_val_rf = np.concatenate((X_val_meta,ame_val, des_val), axis=1)\n",
    "X_test_rf =np.concatenate((x_test_meta,ame_test, des_test), axis=1)"
   ]
  },
  {
   "cell_type": "code",
   "execution_count": 68,
   "id": "918b56a6",
   "metadata": {
    "id": "918b56a6",
    "outputId": "67db7e54-395d-483f-b369-156a05819fc3"
   },
   "outputs": [
    {
     "name": "stdout",
     "output_type": "stream",
     "text": [
      "Training Took 1053.19 seconds\n",
      "MSE: 2443.64\n",
      "RMSE: 49.43\n",
      "MAE: 29.88\n"
     ]
    }
   ],
   "source": [
    "rf5  = RandomForestRegressor(n_estimators= 200, max_features=0.5,random_state=1)\n",
    "\n",
    "start_time = time.perf_counter()\n",
    "rf5.fit(X_train_rf,y_train)\n",
    "end_time = time.perf_counter()\n",
    "total_time = end_time - start_time\n",
    "\n",
    "\n",
    "prediction = pd.DataFrame({\"Prediction\": rf5.predict(X_val_rf), \"Actual\": y_val})\n",
    "\n",
    "print(f'Training Took {total_time:.2f} seconds')\n",
    "print(f\"MSE: {mean_squared_error(prediction.Actual, prediction.Prediction):.2f}\")\n",
    "print(f\"RMSE: {math.sqrt(mean_squared_error(prediction.Actual, prediction.Prediction)):.2f}\")\n",
    "print(f\"MAE: {mean_absolute_error(prediction.Actual, prediction.Prediction):.2f}\")"
   ]
  },
  {
   "cell_type": "markdown",
   "id": "-u9vt8x919Hc",
   "metadata": {
    "id": "-u9vt8x919Hc"
   },
   "source": [
    "We add the textual information(amenities and description),which add more useful information. Therfore, we have a better result."
   ]
  },
  {
   "cell_type": "markdown",
   "id": "VDyvG1WKE8hl",
   "metadata": {
    "id": "VDyvG1WKE8hl"
   },
   "source": [
    "## 4.2 Feedforwad NN"
   ]
  },
  {
   "cell_type": "markdown",
   "id": "fi-HWZFPuqOe",
   "metadata": {
    "id": "fi-HWZFPuqOe"
   },
   "source": [
    "We will explore and perform the deep learning models in the following sections. We will start with feedforward NN, in which the information will go in only one direction."
   ]
  },
  {
   "cell_type": "markdown",
   "id": "d4d880f0",
   "metadata": {},
   "source": [
    "Referring to the excellent discussion and summary on internet, it is said that there is no obvious performance difference from adding hidden layer. And the suggested size of hidden neurons is usually between the size of the input and size of the output layer. As for tuning batch size, reffereing to https://arxiv.org/abs/1804.07612 , it is said that small batch training has been shown to provide improved generalization performance, although the use of large batch size increases the available computational parallelis. The suggesting bactch size from the paper is between 2 and 32. We can use 32 by default.\n",
    "\n",
    "Therefore, we build a simple feedforward NN concating the tabular data, TF-IDF processed amenities text data and TF-IDF processed description text data. And then put the concate result to a hidden layer in size of 108 hidden neurons. At last, we solve the linear regression problem using a default linere activation with one neoron. "
   ]
  },
  {
   "cell_type": "markdown",
   "id": "aeade698",
   "metadata": {
    "id": "aeade698"
   },
   "source": [
    "### TF-IDF + Feedforward NN\n"
   ]
  },
  {
   "cell_type": "code",
   "execution_count": 68,
   "id": "37a90132",
   "metadata": {},
   "outputs": [
    {
     "name": "stdout",
     "output_type": "stream",
     "text": [
      "Model: \"model_1\"\n",
      "__________________________________________________________________________________________________\n",
      " Layer (type)                   Output Shape         Param #     Connected to                     \n",
      "==================================================================================================\n",
      " input_4 (InputLayer)           [(None, 265)]        0           []                               \n",
      "                                                                                                  \n",
      " input_5 (InputLayer)           [(None, 581)]        0           []                               \n",
      "                                                                                                  \n",
      " dense_3 (Dense)                (None, 32)           8512        ['input_4[0][0]']                \n",
      "                                                                                                  \n",
      " dense_4 (Dense)                (None, 56)           32592       ['input_5[0][0]']                \n",
      "                                                                                                  \n",
      " input_6 (InputLayer)           [(None, 41)]         0           []                               \n",
      "                                                                                                  \n",
      " concatenate_1 (Concatenate)    (None, 129)          0           ['dense_3[0][0]',                \n",
      "                                                                  'dense_4[0][0]',                \n",
      "                                                                  'input_6[0][0]']                \n",
      "                                                                                                  \n",
      " dense_5 (Dense)                (None, 108)          14040       ['concatenate_1[0][0]']          \n",
      "                                                                                                  \n",
      " Linear (Dense)                 (None, 1)            109         ['dense_5[0][0]']                \n",
      "                                                                                                  \n",
      "==================================================================================================\n",
      "Total params: 55,253\n",
      "Trainable params: 55,253\n",
      "Non-trainable params: 0\n",
      "__________________________________________________________________________________________________\n",
      "None\n"
     ]
    }
   ],
   "source": [
    "nlp_input1 = tf.keras.Input(shape=(ame_train.shape[1],))\n",
    "nlp_input2 = tf.keras.Input(shape=(des_train.shape[1],))\n",
    "meta_input = tf.keras.Input(shape=(X_train_meta.shape[1],))\n",
    "\n",
    "input1 = layers.Dense(32, activation=\"relu\")(nlp_input1)\n",
    "input2 = layers.Dense(56, activation=\"relu\")(nlp_input2)\n",
    "\n",
    "concat = concatenate([input1, input2, meta_input]) \n",
    "out = layers.Dense(108, activation=\"relu\")(concat)\n",
    "\n",
    "output= layers.Dense(1, activation='linear', name='Linear')(out) \n",
    "\n",
    "model = tf.keras.Model(inputs=[nlp_input1 , nlp_input2, meta_input], outputs=[output])\n",
    "\n",
    "model.compile(optimizer=\"adam\",\n",
    "              loss=\"mse\",\n",
    "              metrics=['mae'])\n",
    "\n",
    "print(model.summary())\n",
    "\n",
    "early_stopping_monitor = EarlyStopping(\n",
    "    monitor='val_loss',\n",
    "    min_delta=0,\n",
    "    patience=3,\n",
    "    verbose=0,\n",
    "    mode='auto',\n",
    "    baseline=None,\n",
    "    restore_best_weights=True\n",
    ")\n",
    "\n",
    "start_time = time.perf_counter()\n",
    "model.fit(x=[ame_train,des_train,X_train_meta],y=y_train, \n",
    "          validation_data=([ame_val,des_val,X_val_meta], y_val),\n",
    "          batch_size=19, epochs=15, verbose=0, \n",
    "          callbacks=[early_stopping_monitor])\n",
    "end_time = time.perf_counter()\n",
    "total_time = end_time - start_time"
   ]
  },
  {
   "cell_type": "code",
   "execution_count": 69,
   "id": "93062faa",
   "metadata": {
    "id": "93062faa",
    "outputId": "27033456-24aa-4b5a-f348-ed6007f7d512"
   },
   "outputs": [
    {
     "name": "stdout",
     "output_type": "stream",
     "text": [
      "Training Took 16.19 seconds\n",
      "MSE: 2406.42\n",
      "MAE: 30.10\n",
      "\n"
     ]
    }
   ],
   "source": [
    "preds = pd.DataFrame(model.predict(x=[ame_val,des_val,X_val_meta]), columns=[\"pred\"], index=y_val.index)\n",
    "preds[\"actual\"] = y_val\n",
    "\n",
    "print(f'Training Took {total_time:.2f} seconds')\n",
    "print(f\"MSE: {mean_squared_error(preds.pred, preds.actual):.2f}\")\n",
    "print(f\"MAE: {mean_absolute_error(preds.pred, preds.actual):.2f}\\n\") "
   ]
  },
  {
   "cell_type": "markdown",
   "id": "V_8ynbkWBIk-",
   "metadata": {
    "id": "V_8ynbkWBIk-"
   },
   "source": [
    "## 4.3 RNN Architecture"
   ]
  },
  {
   "cell_type": "markdown",
   "id": "0NmmgX8b6G2o",
   "metadata": {
    "id": "0NmmgX8b6G2o"
   },
   "source": [
    "Compared to feedforward NN, RNN models can have signals traveling in both direction. The 'memory' will help with deriving computations from earlier input which will be fed back into the network. Therefore, it will have an advantage especially in dealing with time-series data.\n",
    "\n",
    "But the disadvantage of RNN is that building RNN models is costly and cannot be parallel computed. \n",
    "\n",
    "There are two standard and more complex implementations of RNN, namely GRU and LSTM. They also have an advantage in dealing with vanishing gradient problem by introducing 'gates'.\n",
    "\n",
    "We will use the pre-trained embeddings which we obtained from section 3.1. As for the model, we choose GRU instead of LSTM considering the constraint of computiong recource and time, because traing GRU will be faster than LSTM."
   ]
  },
  {
   "cell_type": "markdown",
   "id": "69248ea2",
   "metadata": {
    "id": "69248ea2"
   },
   "source": [
    "### Pre-trained embedding+ GRU"
   ]
  },
  {
   "cell_type": "code",
   "execution_count": 73,
   "id": "db1a53c5",
   "metadata": {},
   "outputs": [],
   "source": [
    "nlp_input1 = tf.keras.Input(shape=(seq_length1,))\n",
    "nlp_input2 = tf.keras.Input(shape=(seq_length2,))\n",
    "meta_input = tf.keras.Input(shape=(X_train_meta.shape[1],))\n",
    "\n",
    "emb1 = layers.Embedding(vocab_size1, output_dim=50,\n",
    "                     embeddings_initializer=Constant(des_weights),\n",
    "                     input_length=seq_length1, trainable=False)(nlp_input1)\n",
    "emb2 = layers.Embedding(vocab_size2, output_dim=50,\n",
    "                     embeddings_initializer=Constant(amenities_weights),\n",
    "                     input_length=seq_length2, trainable=False)(nlp_input2)\n",
    "\n",
    "nlp_out1 = GRU(36)(emb1) \n",
    "nlp_out2 = GRU(36)(emb2)\n",
    "\n",
    "concat = concatenate([nlp_out1, nlp_out2, meta_input]) \n",
    "\n",
    "out = layers.Dense(36, activation='relu')(concat) \n",
    "\n",
    "output = layers.Dense(1, activation='linear', name='Linear')(out) \n",
    "\n",
    "model = tf.keras.Model(inputs=[nlp_input1, nlp_input2, meta_input], outputs=[output])\n",
    "\n",
    "model.compile(optimizer=\"adam\",\n",
    "              loss=\"mse\",\n",
    "              metrics=['mae'])\n",
    "start_time = time.perf_counter()\n",
    "\n",
    "model.fit(x=[description_vector_train, amenities_vector_train,X_train_meta],\n",
    "          y=y_train, \n",
    "          validation_data=([description_vector_val, amenities_vector_val,X_val_meta], y_val),\n",
    "          batch_size=32, epochs=15, verbose=0, \n",
    "          callbacks=[early_stopping_monitor])\n",
    "\n",
    "end_time = time.perf_counter()\n",
    "total_time = end_time - start_time"
   ]
  },
  {
   "cell_type": "code",
   "execution_count": 74,
   "id": "e343680e",
   "metadata": {},
   "outputs": [
    {
     "name": "stdout",
     "output_type": "stream",
     "text": [
      "Training Took 1372.14 seconds\n",
      "MSE: 2657.07\n",
      "RMSE: 51.55\n",
      "MAE: 31.31\n",
      "\n"
     ]
    }
   ],
   "source": [
    "preds = pd.DataFrame(model.predict(x=[description_vector_val,amenities_vector_val,X_val_meta]), \n",
    "                     columns=[\"pred\"], index=y_val.index)\n",
    "preds[\"actual\"] = y_val\n",
    "\n",
    "print(f'Training Took {total_time:.2f} seconds')\n",
    "print(f\"MSE: {mean_squared_error(preds.pred, preds.actual):.2f}\")\n",
    "print(f\"RMSE: {math.sqrt(mean_squared_error(preds.pred, preds.actual)):.2f}\")\n",
    "print(f\"MAE: {mean_absolute_error(preds.pred, preds.actual):.2f}\\n\")"
   ]
  },
  {
   "cell_type": "markdown",
   "id": "jiAYJOBYFJZd",
   "metadata": {
    "id": "jiAYJOBYFJZd"
   },
   "source": [
    "## 4.4 CNN Architecture"
   ]
  },
  {
   "cell_type": "markdown",
   "id": "YvqHHDpMBEAy",
   "metadata": {
    "id": "YvqHHDpMBEAy"
   },
   "source": [
    "Compared to RNN, CNN has an advantage in scalability. Therefore, CNN is useful especially in dealing with image input. CNN make use of 'filter ' to achieve convolution. And pooling layers will help with controling overfitting. We will compare the performance of shallow and deep CNN in this section and only keep the code with best performance in order to increase readability. The code of shallow CNN can be found in another notebook.\n",
    "\n"
   ]
  },
  {
   "cell_type": "markdown",
   "id": "a24a1e49",
   "metadata": {},
   "source": [
    "Compared to the shallow CNN, we add one dropout layer, conv1d and maxpooling layer before the flatten layer for each text input.\n",
    "\n",
    "|Model| Training time(seconds) | MSE | RMSE|MAE|  \n",
    "|---|---|---|---|---|\n",
    "|shallow CNN|235.00|2673.36|51.70|31.98|\n",
    "|deep CNN|273.32|2655.01|51.53|31.79|"
   ]
  },
  {
   "cell_type": "markdown",
   "id": "qeiMjwOt377W",
   "metadata": {
    "id": "qeiMjwOt377W"
   },
   "source": [
    "From the table, we can see the performances of deep CNN and shallow CNN are similar. The deep CNN only perform slightly better off in this scenario."
   ]
  },
  {
   "cell_type": "markdown",
   "id": "16242315",
   "metadata": {},
   "source": [
    "### Word embedding+ deep CNN"
   ]
  },
  {
   "cell_type": "code",
   "execution_count": 93,
   "id": "c01e34ad",
   "metadata": {
    "id": "c01e34ad"
   },
   "outputs": [
    {
     "name": "stdout",
     "output_type": "stream",
     "text": [
      "Model: \"model_3\"\n",
      "__________________________________________________________________________________________________\n",
      " Layer (type)                   Output Shape         Param #     Connected to                     \n",
      "==================================================================================================\n",
      " input_10 (InputLayer)          [(None, 148)]        0           []                               \n",
      "                                                                                                  \n",
      " input_11 (InputLayer)          [(None, 194)]        0           []                               \n",
      "                                                                                                  \n",
      " embedding_2 (Embedding)        (None, 148, 32)      887072      ['input_10[0][0]']               \n",
      "                                                                                                  \n",
      " embedding_3 (Embedding)        (None, 194, 16)      4272        ['input_11[0][0]']               \n",
      "                                                                                                  \n",
      " conv1d (Conv1D)                (None, 133, 32)      16416       ['embedding_2[0][0]']            \n",
      "                                                                                                  \n",
      " conv1d_2 (Conv1D)              (None, 179, 32)      8224        ['embedding_3[0][0]']            \n",
      "                                                                                                  \n",
      " max_pooling1d (MaxPooling1D)   (None, 66, 32)       0           ['conv1d[0][0]']                 \n",
      "                                                                                                  \n",
      " max_pooling1d_2 (MaxPooling1D)  (None, 89, 32)      0           ['conv1d_2[0][0]']               \n",
      "                                                                                                  \n",
      " dropout (Dropout)              (None, 66, 32)       0           ['max_pooling1d[0][0]']          \n",
      "                                                                                                  \n",
      " dropout_1 (Dropout)            (None, 89, 32)       0           ['max_pooling1d_2[0][0]']        \n",
      "                                                                                                  \n",
      " conv1d_1 (Conv1D)              (None, 65, 32)       2080        ['dropout[0][0]']                \n",
      "                                                                                                  \n",
      " conv1d_3 (Conv1D)              (None, 88, 32)       2080        ['dropout_1[0][0]']              \n",
      "                                                                                                  \n",
      " max_pooling1d_1 (MaxPooling1D)  (None, 32, 32)      0           ['conv1d_1[0][0]']               \n",
      "                                                                                                  \n",
      " max_pooling1d_3 (MaxPooling1D)  (None, 44, 32)      0           ['conv1d_3[0][0]']               \n",
      "                                                                                                  \n",
      " input_12 (InputLayer)          [(None, 41)]         0           []                               \n",
      "                                                                                                  \n",
      " flatten (Flatten)              (None, 1024)         0           ['max_pooling1d_1[0][0]']        \n",
      "                                                                                                  \n",
      " flatten_1 (Flatten)            (None, 1408)         0           ['max_pooling1d_3[0][0]']        \n",
      "                                                                                                  \n",
      " dense_7 (Dense)                (None, 24)           1008        ['input_12[0][0]']               \n",
      "                                                                                                  \n",
      " concatenate_3 (Concatenate)    (None, 2456)         0           ['flatten[0][0]',                \n",
      "                                                                  'flatten_1[0][0]',              \n",
      "                                                                  'dense_7[0][0]']                \n",
      "                                                                                                  \n",
      " Linear (Dense)                 (None, 1)            2457        ['concatenate_3[0][0]']          \n",
      "                                                                                                  \n",
      "==================================================================================================\n",
      "Total params: 923,609\n",
      "Trainable params: 923,609\n",
      "Non-trainable params: 0\n",
      "__________________________________________________________________________________________________\n",
      "None\n"
     ]
    }
   ],
   "source": [
    "nlp_input1 = tf.keras.Input(shape=(seq_length1,))\n",
    "emb1 = layers.Embedding(input_dim=vocab_size1, output_dim=32, mask_zero=True)(nlp_input1)#padding and stride no better\n",
    "x = layers.Conv1D(filters = 32, kernel_size = 16, activation = 'relu')(emb1)\n",
    "x = layers.MaxPooling1D(2)(x)\n",
    "x = layers.Dropout(0.25,seed=1)(x)\n",
    "x = layers.Conv1D(filters = 32, kernel_size = 2,activation = 'relu')(x)\n",
    "x = layers.MaxPooling1D(2)(x)\n",
    "nlp_out1 = layers.Flatten()(x)\n",
    "\n",
    "nlp_input2 = tf.keras.Input(shape=(seq_length2,))\n",
    "emb2 = layers.Embedding(input_dim=vocab_size2, output_dim=16, mask_zero=True)(nlp_input2)\n",
    "x = layers.Conv1D(filters = 32, kernel_size = 16,  activation = 'relu')(emb2)\n",
    "x = layers.MaxPooling1D(2)(x)\n",
    "x = layers.Dropout(0.25,seed=1)(x)\n",
    "x = layers.Conv1D(filters = 32, kernel_size = 2, activation = 'relu')(x)\n",
    "x = layers.MaxPooling1D(2)(x)\n",
    "nlp_out2 = layers.Flatten()(x)\n",
    "\n",
    "\n",
    "meta_input = tf.keras.Input(shape=(X_train_meta.shape[1],))\n",
    "meta_out = layers.Dense(24, activation='relu')(meta_input) \n",
    "\n",
    "concat = concatenate([nlp_out1,nlp_out2, meta_out]) \n",
    "\n",
    "output = layers.Dense(1, activation='linear', name='Linear')(concat) \n",
    "\n",
    "model = tf.keras.Model(inputs=[nlp_input1,nlp_input2,meta_input], outputs=[output])\n",
    "\n",
    "model.compile(optimizer=\"adam\",\n",
    "              loss=\"mse\",\n",
    "              metrics=['mae'])\n",
    "\n",
    "print(model.summary())\n",
    "\n",
    "start_time = time.perf_counter()\n",
    "\n",
    "model.fit(x=[description_vector_train, amenities_vector_train,X_train_meta],\n",
    "          y=y_train, \n",
    "          validation_data=([description_vector_val,amenities_vector_val,X_val_meta], y_val),\n",
    "          batch_size=32, epochs=6, verbose=0, \n",
    "          callbacks=[early_stopping_monitor])\n",
    "\n",
    "end_time = time.perf_counter()\n",
    "total_time = end_time - start_time"
   ]
  },
  {
   "cell_type": "code",
   "execution_count": 94,
   "id": "99f91446",
   "metadata": {
    "id": "99f91446",
    "outputId": "c4e76865-ec15-4462-beea-56827f7ef553"
   },
   "outputs": [
    {
     "name": "stdout",
     "output_type": "stream",
     "text": [
      "Training Took 273.32 seconds\n",
      "MSE: 2655.01\n",
      "RMSE: 51.53\n",
      "MAE: 31.79\n",
      "\n"
     ]
    }
   ],
   "source": [
    "preds = pd.DataFrame(model.predict(x=[description_vector_val,amenities_vector_val,X_val_meta]), \n",
    "                     columns=[\"pred\"], index=y_val.index)\n",
    "preds[\"actual\"] = y_val\n",
    "\n",
    "print(f'Training Took {total_time:.2f} seconds')\n",
    "print(f\"MSE: {mean_squared_error(preds.pred, preds.actual):.2f}\")\n",
    "print(f\"RMSE: {math.sqrt(mean_squared_error(preds.pred, preds.actual)):.2f}\")\n",
    "print(f\"MAE: {mean_absolute_error(preds.pred, preds.actual):.2f}\\n\")"
   ]
  },
  {
   "cell_type": "markdown",
   "id": "6c105093",
   "metadata": {
    "id": "6c105093"
   },
   "source": [
    "## 4.5 Model Summary"
   ]
  },
  {
   "cell_type": "markdown",
   "id": "723f5f80",
   "metadata": {
    "id": "723f5f80"
   },
   "source": [
    "| Model |Feature | Text process | Traing time | MSE | RMSE| MAE|  \n",
    "|---|---|---|---|---|---|---|\n",
    "|Random Forest|tabular data + description text + amenities text|TF-IDF|1053.19|2443.64|49.43|29.88|\n",
    "|Feed forward NN|tabular data + description text + amenities text|TF-IDF|16.19|2406.42|49.06|30.01|\n",
    "|GRU|tabular data + description text + amenities text|Pre-trained Glove embedding|1372.14|2657.07|51.55|31.31|\n",
    "|CNN|tabular data + description text + amenities text|Embedding|273.32|2655.01|51.53|31.79|\n",
    "\n",
    "\n"
   ]
  },
  {
   "cell_type": "markdown",
   "id": "ZdQWM1A-FsYR",
   "metadata": {
    "id": "ZdQWM1A-FsYR"
   },
   "source": [
    "We use tabular data, description and amenities text data as features. The text is processed in three different ways, namely TF-IDF, pre-trained Glove embedding and embedding. The table compared all the models in dimensions of training time, MSE, RMSE and MAE.\n",
    "\n",
    "As we can see, the random forest and feedforward NN achieve better performance considering MSE, RMSE and MAE. But feedforward NN has an obvious advantage in computing time.\n",
    "\n",
    "However, although we perform more complex NN, namely GRU and CNN, the performance of GRU and CNN does not increase as we expect. Actually, RNNs are designed to recognize sequential or temporal data and CNNS have an advantage in interpreting visual data or sparse data. Therefore, GRU and CNN did not have an obvious advantage here. At the same time, we used different text process techniques, which also have impact on performance. \n",
    "\n",
    "Noticebally, training GRU with pre-trained glove embedding and random forest is time consuming. They have disadvantage in scaling."
   ]
  },
  {
   "cell_type": "markdown",
   "id": "HRIV4oUNFX24",
   "metadata": {
    "id": "HRIV4oUNFX24"
   },
   "source": [
    "# 5.Application to Test Set"
   ]
  },
  {
   "cell_type": "markdown",
   "id": "61c61cc1",
   "metadata": {},
   "source": [
    "We have already processed the test data in 2 and 3 section. As discussed in 4.5, we will apply the best performance model(Feedforward NN) on the test dataset."
   ]
  },
  {
   "cell_type": "code",
   "execution_count": 95,
   "id": "20da4993",
   "metadata": {
    "id": "20da4993"
   },
   "outputs": [
    {
     "name": "stdout",
     "output_type": "stream",
     "text": [
      "Model: \"model_4\"\n",
      "__________________________________________________________________________________________________\n",
      " Layer (type)                   Output Shape         Param #     Connected to                     \n",
      "==================================================================================================\n",
      " input_13 (InputLayer)          [(None, 265)]        0           []                               \n",
      "                                                                                                  \n",
      " input_14 (InputLayer)          [(None, 581)]        0           []                               \n",
      "                                                                                                  \n",
      " dense_8 (Dense)                (None, 32)           8512        ['input_13[0][0]']               \n",
      "                                                                                                  \n",
      " dense_9 (Dense)                (None, 56)           32592       ['input_14[0][0]']               \n",
      "                                                                                                  \n",
      " input_15 (InputLayer)          [(None, 41)]         0           []                               \n",
      "                                                                                                  \n",
      " concatenate_4 (Concatenate)    (None, 129)          0           ['dense_8[0][0]',                \n",
      "                                                                  'dense_9[0][0]',                \n",
      "                                                                  'input_15[0][0]']               \n",
      "                                                                                                  \n",
      " dense_10 (Dense)               (None, 108)          14040       ['concatenate_4[0][0]']          \n",
      "                                                                                                  \n",
      " Linear (Dense)                 (None, 1)            109         ['dense_10[0][0]']               \n",
      "                                                                                                  \n",
      "==================================================================================================\n",
      "Total params: 55,253\n",
      "Trainable params: 55,253\n",
      "Non-trainable params: 0\n",
      "__________________________________________________________________________________________________\n",
      "None\n"
     ]
    }
   ],
   "source": [
    "nlp_input1 = tf.keras.Input(shape=(ame_train.shape[1],))\n",
    "nlp_input2 = tf.keras.Input(shape=(des_train.shape[1],))\n",
    "meta_input = tf.keras.Input(shape=(X_train_meta.shape[1],))\n",
    "\n",
    "input1 = layers.Dense(32, activation=\"relu\")(nlp_input1)\n",
    "input2 = layers.Dense(56, activation=\"relu\")(nlp_input2)\n",
    "\n",
    "concat = concatenate([input1, input2, meta_input]) \n",
    "out = layers.Dense(108, activation=\"relu\")(concat)\n",
    "\n",
    "output= layers.Dense(1, activation='linear', name='Linear')(out) \n",
    "\n",
    "model = tf.keras.Model(inputs=[nlp_input1 , nlp_input2, meta_input], outputs=[output])\n",
    "\n",
    "model.compile(optimizer=\"adam\",\n",
    "              loss=\"mse\",\n",
    "              metrics=['mae'])\n",
    "\n",
    "print(model.summary())\n",
    "\n",
    "early_stopping_monitor = EarlyStopping(\n",
    "    monitor='val_loss',\n",
    "    min_delta=0,\n",
    "    patience=3,\n",
    "    verbose=0,\n",
    "    mode='auto',\n",
    "    baseline=None,\n",
    "    restore_best_weights=True\n",
    ")\n",
    "\n",
    "start_time = time.perf_counter()\n",
    "model.fit(x=[ame_train,des_train,X_train_meta],y=y_train, \n",
    "          validation_data=([ame_val,des_val,X_val_meta], y_val),\n",
    "          batch_size=19, epochs=15, verbose=0, \n",
    "          callbacks=[early_stopping_monitor])\n",
    "end_time = time.perf_counter()\n",
    "total_time = end_time - start_time"
   ]
  },
  {
   "cell_type": "code",
   "execution_count": 96,
   "id": "736eea9e",
   "metadata": {
    "id": "736eea9e"
   },
   "outputs": [],
   "source": [
    "y_pred_kaggle = model.predict(x=[ame_test,des_test,x_test_meta])\n",
    "y_pred_kaggle\n",
    "x_test['price'] = y_pred_kaggle\n",
    "submission = x_test[['listing_id', 'price']]\n",
    "\n",
    "\n",
    "import os  \n",
    "os.makedirs('/Users/kelly/Desktop/adams/assignment', exist_ok=True)\n",
    "pd.DataFrame(submission).to_csv('//Users/kelly/Desktop/adams/assignment/output/output.csv', index =False, encoding = 'utf-8-sig') "
   ]
  },
  {
   "cell_type": "markdown",
   "id": "rLUnd29LFfQz",
   "metadata": {
    "id": "rLUnd29LFfQz"
   },
   "source": [
    "# 6.Conclusion"
   ]
  },
  {
   "cell_type": "markdown",
   "id": "8015f034",
   "metadata": {
    "id": "8b1b8beb"
   },
   "source": [
    "In this assignment, we applied different techniques in Natural Language Processing, including TF-IDF and word embedding. Furthermore, various deep learning models(Feedforward NN, RNN,CNN) and machine learning model(random forest)have been implemented. At last, we also compare the models in dimensions of training time, MSE, RMSE and MAE.\n",
    "\n",
    "On the other hand, we still have limations and can improve in the future. Tranformer models have not been implemented here. The review data and image of households have not been considered."
   ]
  }
 ],
 "metadata": {
  "colab": {
   "collapsed_sections": [],
   "provenance": [],
   "toc_visible": true
  },
  "kernelspec": {
   "display_name": "Python 3 (ipykernel)",
   "language": "python",
   "name": "python3"
  },
  "language_info": {
   "codemirror_mode": {
    "name": "ipython",
    "version": 3
   },
   "file_extension": ".py",
   "mimetype": "text/x-python",
   "name": "python",
   "nbconvert_exporter": "python",
   "pygments_lexer": "ipython3",
   "version": "3.9.7"
  }
 },
 "nbformat": 4,
 "nbformat_minor": 5
}
